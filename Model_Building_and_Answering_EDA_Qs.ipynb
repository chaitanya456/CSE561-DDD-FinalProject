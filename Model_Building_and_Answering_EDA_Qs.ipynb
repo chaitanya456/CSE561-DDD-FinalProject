{
  "nbformat": 4,
  "nbformat_minor": 0,
  "metadata": {
    "colab": {
      "provenance": []
    },
    "kernelspec": {
      "name": "python3",
      "display_name": "Python 3"
    },
    "language_info": {
      "name": "python"
    }
  },
  "cells": [
    {
      "cell_type": "code",
      "execution_count": null,
      "metadata": {
        "id": "ipZSlHqiKkOP"
      },
      "outputs": [],
      "source": [
        "import matplotlib.pyplot as plt\n",
        "import numpy as np\n",
        "import pandas as pd"
      ]
    },
    {
      "cell_type": "code",
      "source": [
        "df_cleaned = pd.read_csv(\"/content/df_cleaned.csv\")"
      ],
      "metadata": {
        "id": "llwCDiZOSVSR"
      },
      "execution_count": null,
      "outputs": []
    },
    {
      "cell_type": "code",
      "source": [
        "\n",
        "def handle_missing_values(df, app_number):\n",
        "    # Step 1: Remove duplicate rows first\n",
        "    df = df.drop_duplicates()\n",
        "\n",
        "    # Step 2: Fill missing values in the target column 'ARR_DEL15' using its median\n",
        "    # We use the median to keep the target class (y) to be binary. If we repalce with mean -> we might end up with continuous values which is undesirable.\n",
        "    df.loc[:, 'ARR_DEL15'] = df['ARR_DEL15'].fillna(df['ARR_DEL15'].mode()[0])\n",
        "\n",
        "    # Step 3: Handle missing values\n",
        "    if app_number == 1:\n",
        "        df_app = df.copy()\n",
        "        # Approach 1: We will use skewness to determine whether to fill missing values with mean(mean for low skew) or median(median for high skew)\n",
        "        for column in df.select_dtypes(include=['number']).columns:\n",
        "            if df_app[column].skew() < 1:  # If skewness is low --> use mean\n",
        "                df_app[column] = df_app[column].fillna(df_app[column].mean())\n",
        "            else:  # If skewness is high --> use median\n",
        "                df_app[column] = df_app[column].fillna(df_app[column].median())\n",
        "\n",
        "    elif app_number == 2:\n",
        "        # Approach 2: Replace all numeric missing values with the mean\n",
        "        df_app = df.copy()\n",
        "        for column in df.select_dtypes(include=['number']).columns:\n",
        "            df_app[column] = df_app[column].fillna(df_app[column].mean())\n",
        "\n",
        "    elif app_number == 3:\n",
        "        # Approach 3: Similar to Approach 2 (Replace all numeric missing values with the mean)\n",
        "        df_app = df.copy()\n",
        "        for column in df.select_dtypes(include=['number']).columns:\n",
        "            df_app[column] = df_app[column].fillna(df_app[column].mean())\n",
        "\n",
        "    elif app_number == 4:\n",
        "        # Approach 4: Remove rows that contain any missing values\n",
        "        df_app = df.dropna()\n",
        "\n",
        "    else:\n",
        "        raise ValueError(\"Invalid app_number. Please choose a value between 1 and 4.\")\n",
        "\n",
        "    return df_app"
      ],
      "metadata": {
        "id": "KSbhkgpVU8fB"
      },
      "execution_count": null,
      "outputs": []
    },
    {
      "cell_type": "markdown",
      "metadata": {
        "id": "uaWIjd8MRsWt"
      },
      "source": [
        "# Which is the best encoding for our situation?\n",
        "\n",
        "We tried 3 types of encoding\n",
        "\n",
        "\n",
        "1.   One Hot Encoding\n",
        "2.   Frequency Encoding\n",
        "3.   Label Encoding\n",
        "4.   Ordinal Encoding\n",
        "\n",
        "  "
      ]
    },
    {
      "cell_type": "code",
      "execution_count": null,
      "metadata": {
        "id": "vCOVg06MKT4j"
      },
      "outputs": [],
      "source": [
        "# X= pd.get_dummies(X, columns=['OP_UNIQUE_CARRIER', 'ORIGIN', 'DEST'], drop_first=True, dtype = int)\n",
        "# for col in ['ORIGIN', 'DEST']:\n",
        "#     freq_map = X[col].value_counts(normalize=True)  # Get category frequencies\n",
        "#     X[col] = X[col].map(freq_map)  # Replace category with its frequency"
      ]
    },
    {
      "cell_type": "code",
      "execution_count": null,
      "metadata": {
        "colab": {
          "base_uri": "https://localhost:8080/",
          "height": 206
        },
        "id": "yFJI7tgB9s08",
        "outputId": "376ff2b9-607c-44bb-99c4-df3a88c35a75"
      },
      "outputs": [
        {
          "output_type": "execute_result",
          "data": {
            "text/plain": [
              "  OP_UNIQUE_CARRIER ORIGIN ORIGIN_STATE_ABR DEST DEST_STATE_ABR\n",
              "0                AA    ABQ               NM  DFW             TX\n",
              "1                AA    ABQ               NM  DFW             TX\n",
              "2                AA    ABQ               NM  DFW             TX\n",
              "3                AA    ABQ               NM  DFW             TX\n",
              "4                AA    ABQ               NM  DFW             TX"
            ],
            "text/html": [
              "\n",
              "  <div id=\"df-f89ef18b-fb37-4b7f-8741-e50d6ec69588\" class=\"colab-df-container\">\n",
              "    <div>\n",
              "<style scoped>\n",
              "    .dataframe tbody tr th:only-of-type {\n",
              "        vertical-align: middle;\n",
              "    }\n",
              "\n",
              "    .dataframe tbody tr th {\n",
              "        vertical-align: top;\n",
              "    }\n",
              "\n",
              "    .dataframe thead th {\n",
              "        text-align: right;\n",
              "    }\n",
              "</style>\n",
              "<table border=\"1\" class=\"dataframe\">\n",
              "  <thead>\n",
              "    <tr style=\"text-align: right;\">\n",
              "      <th></th>\n",
              "      <th>OP_UNIQUE_CARRIER</th>\n",
              "      <th>ORIGIN</th>\n",
              "      <th>ORIGIN_STATE_ABR</th>\n",
              "      <th>DEST</th>\n",
              "      <th>DEST_STATE_ABR</th>\n",
              "    </tr>\n",
              "  </thead>\n",
              "  <tbody>\n",
              "    <tr>\n",
              "      <th>0</th>\n",
              "      <td>AA</td>\n",
              "      <td>ABQ</td>\n",
              "      <td>NM</td>\n",
              "      <td>DFW</td>\n",
              "      <td>TX</td>\n",
              "    </tr>\n",
              "    <tr>\n",
              "      <th>1</th>\n",
              "      <td>AA</td>\n",
              "      <td>ABQ</td>\n",
              "      <td>NM</td>\n",
              "      <td>DFW</td>\n",
              "      <td>TX</td>\n",
              "    </tr>\n",
              "    <tr>\n",
              "      <th>2</th>\n",
              "      <td>AA</td>\n",
              "      <td>ABQ</td>\n",
              "      <td>NM</td>\n",
              "      <td>DFW</td>\n",
              "      <td>TX</td>\n",
              "    </tr>\n",
              "    <tr>\n",
              "      <th>3</th>\n",
              "      <td>AA</td>\n",
              "      <td>ABQ</td>\n",
              "      <td>NM</td>\n",
              "      <td>DFW</td>\n",
              "      <td>TX</td>\n",
              "    </tr>\n",
              "    <tr>\n",
              "      <th>4</th>\n",
              "      <td>AA</td>\n",
              "      <td>ABQ</td>\n",
              "      <td>NM</td>\n",
              "      <td>DFW</td>\n",
              "      <td>TX</td>\n",
              "    </tr>\n",
              "  </tbody>\n",
              "</table>\n",
              "</div>\n",
              "    <div class=\"colab-df-buttons\">\n",
              "\n",
              "  <div class=\"colab-df-container\">\n",
              "    <button class=\"colab-df-convert\" onclick=\"convertToInteractive('df-f89ef18b-fb37-4b7f-8741-e50d6ec69588')\"\n",
              "            title=\"Convert this dataframe to an interactive table.\"\n",
              "            style=\"display:none;\">\n",
              "\n",
              "  <svg xmlns=\"http://www.w3.org/2000/svg\" height=\"24px\" viewBox=\"0 -960 960 960\">\n",
              "    <path d=\"M120-120v-720h720v720H120Zm60-500h600v-160H180v160Zm220 220h160v-160H400v160Zm0 220h160v-160H400v160ZM180-400h160v-160H180v160Zm440 0h160v-160H620v160ZM180-180h160v-160H180v160Zm440 0h160v-160H620v160Z\"/>\n",
              "  </svg>\n",
              "    </button>\n",
              "\n",
              "  <style>\n",
              "    .colab-df-container {\n",
              "      display:flex;\n",
              "      gap: 12px;\n",
              "    }\n",
              "\n",
              "    .colab-df-convert {\n",
              "      background-color: #E8F0FE;\n",
              "      border: none;\n",
              "      border-radius: 50%;\n",
              "      cursor: pointer;\n",
              "      display: none;\n",
              "      fill: #1967D2;\n",
              "      height: 32px;\n",
              "      padding: 0 0 0 0;\n",
              "      width: 32px;\n",
              "    }\n",
              "\n",
              "    .colab-df-convert:hover {\n",
              "      background-color: #E2EBFA;\n",
              "      box-shadow: 0px 1px 2px rgba(60, 64, 67, 0.3), 0px 1px 3px 1px rgba(60, 64, 67, 0.15);\n",
              "      fill: #174EA6;\n",
              "    }\n",
              "\n",
              "    .colab-df-buttons div {\n",
              "      margin-bottom: 4px;\n",
              "    }\n",
              "\n",
              "    [theme=dark] .colab-df-convert {\n",
              "      background-color: #3B4455;\n",
              "      fill: #D2E3FC;\n",
              "    }\n",
              "\n",
              "    [theme=dark] .colab-df-convert:hover {\n",
              "      background-color: #434B5C;\n",
              "      box-shadow: 0px 1px 3px 1px rgba(0, 0, 0, 0.15);\n",
              "      filter: drop-shadow(0px 1px 2px rgba(0, 0, 0, 0.3));\n",
              "      fill: #FFFFFF;\n",
              "    }\n",
              "  </style>\n",
              "\n",
              "    <script>\n",
              "      const buttonEl =\n",
              "        document.querySelector('#df-f89ef18b-fb37-4b7f-8741-e50d6ec69588 button.colab-df-convert');\n",
              "      buttonEl.style.display =\n",
              "        google.colab.kernel.accessAllowed ? 'block' : 'none';\n",
              "\n",
              "      async function convertToInteractive(key) {\n",
              "        const element = document.querySelector('#df-f89ef18b-fb37-4b7f-8741-e50d6ec69588');\n",
              "        const dataTable =\n",
              "          await google.colab.kernel.invokeFunction('convertToInteractive',\n",
              "                                                    [key], {});\n",
              "        if (!dataTable) return;\n",
              "\n",
              "        const docLinkHtml = 'Like what you see? Visit the ' +\n",
              "          '<a target=\"_blank\" href=https://colab.research.google.com/notebooks/data_table.ipynb>data table notebook</a>'\n",
              "          + ' to learn more about interactive tables.';\n",
              "        element.innerHTML = '';\n",
              "        dataTable['output_type'] = 'display_data';\n",
              "        await google.colab.output.renderOutput(dataTable, element);\n",
              "        const docLink = document.createElement('div');\n",
              "        docLink.innerHTML = docLinkHtml;\n",
              "        element.appendChild(docLink);\n",
              "      }\n",
              "    </script>\n",
              "  </div>\n",
              "\n",
              "\n",
              "<div id=\"df-cfec5fbc-30fa-41d2-876e-ae04c7de265d\">\n",
              "  <button class=\"colab-df-quickchart\" onclick=\"quickchart('df-cfec5fbc-30fa-41d2-876e-ae04c7de265d')\"\n",
              "            title=\"Suggest charts\"\n",
              "            style=\"display:none;\">\n",
              "\n",
              "<svg xmlns=\"http://www.w3.org/2000/svg\" height=\"24px\"viewBox=\"0 0 24 24\"\n",
              "     width=\"24px\">\n",
              "    <g>\n",
              "        <path d=\"M19 3H5c-1.1 0-2 .9-2 2v14c0 1.1.9 2 2 2h14c1.1 0 2-.9 2-2V5c0-1.1-.9-2-2-2zM9 17H7v-7h2v7zm4 0h-2V7h2v10zm4 0h-2v-4h2v4z\"/>\n",
              "    </g>\n",
              "</svg>\n",
              "  </button>\n",
              "\n",
              "<style>\n",
              "  .colab-df-quickchart {\n",
              "      --bg-color: #E8F0FE;\n",
              "      --fill-color: #1967D2;\n",
              "      --hover-bg-color: #E2EBFA;\n",
              "      --hover-fill-color: #174EA6;\n",
              "      --disabled-fill-color: #AAA;\n",
              "      --disabled-bg-color: #DDD;\n",
              "  }\n",
              "\n",
              "  [theme=dark] .colab-df-quickchart {\n",
              "      --bg-color: #3B4455;\n",
              "      --fill-color: #D2E3FC;\n",
              "      --hover-bg-color: #434B5C;\n",
              "      --hover-fill-color: #FFFFFF;\n",
              "      --disabled-bg-color: #3B4455;\n",
              "      --disabled-fill-color: #666;\n",
              "  }\n",
              "\n",
              "  .colab-df-quickchart {\n",
              "    background-color: var(--bg-color);\n",
              "    border: none;\n",
              "    border-radius: 50%;\n",
              "    cursor: pointer;\n",
              "    display: none;\n",
              "    fill: var(--fill-color);\n",
              "    height: 32px;\n",
              "    padding: 0;\n",
              "    width: 32px;\n",
              "  }\n",
              "\n",
              "  .colab-df-quickchart:hover {\n",
              "    background-color: var(--hover-bg-color);\n",
              "    box-shadow: 0 1px 2px rgba(60, 64, 67, 0.3), 0 1px 3px 1px rgba(60, 64, 67, 0.15);\n",
              "    fill: var(--button-hover-fill-color);\n",
              "  }\n",
              "\n",
              "  .colab-df-quickchart-complete:disabled,\n",
              "  .colab-df-quickchart-complete:disabled:hover {\n",
              "    background-color: var(--disabled-bg-color);\n",
              "    fill: var(--disabled-fill-color);\n",
              "    box-shadow: none;\n",
              "  }\n",
              "\n",
              "  .colab-df-spinner {\n",
              "    border: 2px solid var(--fill-color);\n",
              "    border-color: transparent;\n",
              "    border-bottom-color: var(--fill-color);\n",
              "    animation:\n",
              "      spin 1s steps(1) infinite;\n",
              "  }\n",
              "\n",
              "  @keyframes spin {\n",
              "    0% {\n",
              "      border-color: transparent;\n",
              "      border-bottom-color: var(--fill-color);\n",
              "      border-left-color: var(--fill-color);\n",
              "    }\n",
              "    20% {\n",
              "      border-color: transparent;\n",
              "      border-left-color: var(--fill-color);\n",
              "      border-top-color: var(--fill-color);\n",
              "    }\n",
              "    30% {\n",
              "      border-color: transparent;\n",
              "      border-left-color: var(--fill-color);\n",
              "      border-top-color: var(--fill-color);\n",
              "      border-right-color: var(--fill-color);\n",
              "    }\n",
              "    40% {\n",
              "      border-color: transparent;\n",
              "      border-right-color: var(--fill-color);\n",
              "      border-top-color: var(--fill-color);\n",
              "    }\n",
              "    60% {\n",
              "      border-color: transparent;\n",
              "      border-right-color: var(--fill-color);\n",
              "    }\n",
              "    80% {\n",
              "      border-color: transparent;\n",
              "      border-right-color: var(--fill-color);\n",
              "      border-bottom-color: var(--fill-color);\n",
              "    }\n",
              "    90% {\n",
              "      border-color: transparent;\n",
              "      border-bottom-color: var(--fill-color);\n",
              "    }\n",
              "  }\n",
              "</style>\n",
              "\n",
              "  <script>\n",
              "    async function quickchart(key) {\n",
              "      const quickchartButtonEl =\n",
              "        document.querySelector('#' + key + ' button');\n",
              "      quickchartButtonEl.disabled = true;  // To prevent multiple clicks.\n",
              "      quickchartButtonEl.classList.add('colab-df-spinner');\n",
              "      try {\n",
              "        const charts = await google.colab.kernel.invokeFunction(\n",
              "            'suggestCharts', [key], {});\n",
              "      } catch (error) {\n",
              "        console.error('Error during call to suggestCharts:', error);\n",
              "      }\n",
              "      quickchartButtonEl.classList.remove('colab-df-spinner');\n",
              "      quickchartButtonEl.classList.add('colab-df-quickchart-complete');\n",
              "    }\n",
              "    (() => {\n",
              "      let quickchartButtonEl =\n",
              "        document.querySelector('#df-cfec5fbc-30fa-41d2-876e-ae04c7de265d button');\n",
              "      quickchartButtonEl.style.display =\n",
              "        google.colab.kernel.accessAllowed ? 'block' : 'none';\n",
              "    })();\n",
              "  </script>\n",
              "</div>\n",
              "\n",
              "    </div>\n",
              "  </div>\n"
            ],
            "application/vnd.google.colaboratory.intrinsic+json": {
              "type": "dataframe",
              "summary": "{\n  \"name\": \"df_cleaned\",\n  \"rows\": 5,\n  \"fields\": [\n    {\n      \"column\": \"OP_UNIQUE_CARRIER\",\n      \"properties\": {\n        \"dtype\": \"category\",\n        \"num_unique_values\": 1,\n        \"samples\": [\n          \"AA\"\n        ],\n        \"semantic_type\": \"\",\n        \"description\": \"\"\n      }\n    },\n    {\n      \"column\": \"ORIGIN\",\n      \"properties\": {\n        \"dtype\": \"category\",\n        \"num_unique_values\": 1,\n        \"samples\": [\n          \"ABQ\"\n        ],\n        \"semantic_type\": \"\",\n        \"description\": \"\"\n      }\n    },\n    {\n      \"column\": \"ORIGIN_STATE_ABR\",\n      \"properties\": {\n        \"dtype\": \"category\",\n        \"num_unique_values\": 1,\n        \"samples\": [\n          \"NM\"\n        ],\n        \"semantic_type\": \"\",\n        \"description\": \"\"\n      }\n    },\n    {\n      \"column\": \"DEST\",\n      \"properties\": {\n        \"dtype\": \"category\",\n        \"num_unique_values\": 1,\n        \"samples\": [\n          \"DFW\"\n        ],\n        \"semantic_type\": \"\",\n        \"description\": \"\"\n      }\n    },\n    {\n      \"column\": \"DEST_STATE_ABR\",\n      \"properties\": {\n        \"dtype\": \"category\",\n        \"num_unique_values\": 1,\n        \"samples\": [\n          \"TX\"\n        ],\n        \"semantic_type\": \"\",\n        \"description\": \"\"\n      }\n    }\n  ]\n}"
            }
          },
          "metadata": {},
          "execution_count": 5
        }
      ],
      "source": [
        "df_cleaned.select_dtypes('O').head()"
      ]
    },
    {
      "cell_type": "code",
      "execution_count": null,
      "metadata": {
        "colab": {
          "base_uri": "https://localhost:8080/"
        },
        "id": "QB83uZ94OOGD",
        "outputId": "a3e46059-1a42-4fbf-9b45-517b1b3a9696"
      },
      "outputs": [
        {
          "output_type": "execute_result",
          "data": {
            "text/plain": [
              "array(['NM', 'NY', 'TX', 'GA', 'CT', 'AL', 'TN', 'MA', 'CA', 'MD', 'OH',\n",
              "       'NC', 'CO', 'KY', 'VA', 'IA', 'MI', 'NJ', 'FL', 'HI', 'KS', 'IN',\n",
              "       'WY', 'NV', 'AR', 'MO', 'PA', 'MN', 'LA', 'OK', 'NE', 'IL', 'OR',\n",
              "       'AZ', 'RI', 'WA', 'PR', 'UT', 'VI', 'AK', 'SC', 'WI', 'ME', 'MT',\n",
              "       'ID', 'MS', 'ND', 'SD', 'VT', 'NH', 'WV'], dtype=object)"
            ]
          },
          "metadata": {},
          "execution_count": 6
        }
      ],
      "source": [
        "df_cleaned.ORIGIN_STATE_ABR.unique()"
      ]
    },
    {
      "cell_type": "code",
      "execution_count": null,
      "metadata": {
        "colab": {
          "base_uri": "https://localhost:8080/"
        },
        "id": "gggYmAB6Odiv",
        "outputId": "7b2d3c52-6537-4846-ba01-bb85a017aaa6"
      },
      "outputs": [
        {
          "output_type": "execute_result",
          "data": {
            "text/plain": [
              "array(['TX', 'IL', 'FL', 'CA', 'PR', 'NY', 'NM', 'GA', 'CT', 'AL', 'TN',\n",
              "       'MA', 'MD', 'OH', 'NC', 'CO', 'KY', 'VA', 'IA', 'MI', 'NJ', 'HI',\n",
              "       'KS', 'IN', 'NV', 'AR', 'MO', 'MN', 'LA', 'OK', 'NE', 'OR', 'PA',\n",
              "       'AZ', 'WA', 'UT', 'VI', 'WY', 'RI', 'AK', 'SC', 'ME', 'WI', 'MS',\n",
              "       'MT', 'ID', 'ND', 'SD', 'VT', 'NH', 'WV'], dtype=object)"
            ]
          },
          "metadata": {},
          "execution_count": 7
        }
      ],
      "source": [
        "df_cleaned.DEST_STATE_ABR.unique()"
      ]
    },
    {
      "cell_type": "code",
      "execution_count": null,
      "metadata": {
        "id": "bFsPshss-DTt"
      },
      "outputs": [],
      "source": [
        "from sklearn.model_selection import train_test_split\n",
        "\n",
        "\n",
        "# Handling missing values in the DataFrame using the approach 4\n",
        "app_number = 4\n",
        "df_cleaned = handle_missing_values(df_cleaned, app_number)\n",
        "\n",
        "# Prepare features (X) and target (y) for modeling\n",
        "X = df_cleaned.drop(columns=['ARR_DEL15'])\n",
        "y = df_cleaned['ARR_DEL15']\n",
        "\n",
        "X_train, X_test, y_train, y_test = train_test_split(X, y, test_size=0.2, random_state=42)"
      ]
    },
    {
      "cell_type": "markdown",
      "metadata": {
        "id": "Fkdtym9X_JU6"
      },
      "source": [
        "## Encoding only using Traning data and then transform Test data"
      ]
    },
    {
      "cell_type": "markdown",
      "metadata": {
        "id": "xR9T3bo1AWJE"
      },
      "source": [
        "Label Encoder cannot handle values which are first time appearing in test data (Unseen Data). Also, Ordinal Encoder is better suited for feature encoding (X columns) when compared to Label Encoder"
      ]
    },
    {
      "cell_type": "code",
      "execution_count": null,
      "metadata": {
        "id": "piL-9DyWAPeJ"
      },
      "outputs": [],
      "source": [
        "from sklearn.preprocessing import OrdinalEncoder\n",
        "import pandas as pd\n",
        "\n",
        "# =========================\n",
        "# Shared encoder for ORIGIN and DEST\n",
        "# =========================\n",
        "airport_encoder = OrdinalEncoder(handle_unknown='use_encoded_value', unknown_value=-1)\n",
        "airport_encoder.fit(X_train[['ORIGIN', 'DEST']])\n",
        "\n",
        "X_train[['ORIGIN', 'DEST']] = airport_encoder.transform(X_train[['ORIGIN', 'DEST']])\n",
        "X_test[['ORIGIN', 'DEST']] = airport_encoder.transform(X_test[['ORIGIN', 'DEST']])\n",
        "\n",
        "# =========================\n",
        "# Shared encoder for ORIGIN_STATE_ABR and DEST_STATE_ABR\n",
        "# =========================\n",
        "state_encoder = OrdinalEncoder(handle_unknown='use_encoded_value', unknown_value=-1)\n",
        "state_encoder.fit(X_train[['ORIGIN_STATE_ABR', 'DEST_STATE_ABR']])\n",
        "\n",
        "X_train[['ORIGIN_STATE_ABR', 'DEST_STATE_ABR']] = state_encoder.transform(\n",
        "    X_train[['ORIGIN_STATE_ABR', 'DEST_STATE_ABR']]\n",
        ")\n",
        "X_test[['ORIGIN_STATE_ABR', 'DEST_STATE_ABR']] = state_encoder.transform(\n",
        "    X_test[['ORIGIN_STATE_ABR', 'DEST_STATE_ABR']]\n",
        ")\n",
        "\n",
        "# =========================\n",
        "# Encoder for OP_UNIQUE_CARRIER\n",
        "# =========================\n",
        "carrier_encoder = OrdinalEncoder(handle_unknown='use_encoded_value', unknown_value=-1)\n",
        "carrier_encoder.fit(X_train[['OP_UNIQUE_CARRIER']])\n",
        "\n",
        "X_train[['OP_UNIQUE_CARRIER']] = carrier_encoder.transform(X_train[['OP_UNIQUE_CARRIER']])\n",
        "X_test[['OP_UNIQUE_CARRIER']] = carrier_encoder.transform(X_test[['OP_UNIQUE_CARRIER']])\n"
      ]
    },
    {
      "cell_type": "code",
      "execution_count": null,
      "metadata": {
        "id": "iDXWFo95It7u"
      },
      "outputs": [],
      "source": [
        "# # We have initialized the LabelEncoder for encoding categorical variables\n",
        "# label_encoder = LabelEncoder()\n",
        "# label_encoder.fit(pd.concat([df_cleaned['ORIGIN'], df_cleaned['DEST']]))\n",
        "\n",
        "# # Applying the LabelEncoder transformation to 'ORIGIN' and 'DEST' columns to convert them into numeric labels\n",
        "# df_cleaned['ORIGIN'] = label_encoder.transform(df_cleaned['ORIGIN'])\n",
        "# df_cleaned['DEST'] = label_encoder.transform(df_cleaned['DEST'])\n",
        "\n",
        "# all_states = pd.concat([df_cleaned['ORIGIN_STATE_ABR'], df_cleaned['DEST_STATE_ABR']])\n",
        "# state_encoder = LabelEncoder().fit(all_states)\n",
        "\n",
        "# df_cleaned['ORIGIN_STATE_ABR'] = state_encoder.transform(df_cleaned['ORIGIN_STATE_ABR'])\n",
        "# df_cleaned['DEST_STATE_ABR'] = state_encoder.transform(df_cleaned['DEST_STATE_ABR'])\n",
        "\n",
        "\n",
        "# remaining_cat_cols = ['OP_UNIQUE_CARRIER']\n",
        "# label_encoders = {}\n",
        "\n",
        "# for col in remaining_cat_cols:\n",
        "#     le = LabelEncoder()\n",
        "#     df_cleaned[col] = le.fit_transform(df_cleaned[col])\n",
        "#     label_encoders[col] = le"
      ]
    },
    {
      "cell_type": "markdown",
      "metadata": {
        "id": "KwwqJY01SOHV"
      },
      "source": [
        "### One more possible data leakage is I m encoding before train test split - there is a high chance of model learning about all categories even ones that exist only in test - kind of like cheating."
      ]
    },
    {
      "cell_type": "markdown",
      "metadata": {
        "id": "fvczU-UaTSn4"
      },
      "source": [
        "# Logistic Regression Model"
      ]
    },
    {
      "cell_type": "markdown",
      "metadata": {
        "id": "sx91523rV8Sv"
      },
      "source": [
        "## Why did we scale the data for Logistic Regression?\n",
        "\n",
        "\n",
        "\n",
        "1.   Gradient Descent Convergence - it was not converging earlier because of different scales\n",
        "2.   Improved interpretability - all features contribute equally to the model\n",
        "\n"
      ]
    },
    {
      "cell_type": "code",
      "source": [
        "\n",
        "from sklearn.linear_model import LogisticRegression\n",
        "from sklearn.metrics import accuracy_score, classification_report\n",
        "from sklearn.preprocessing import StandardScaler\n",
        "\n",
        "\n",
        "# Standardize the features using StandardScaler\n",
        "scaler = StandardScaler()\n",
        "X_train_scaled = scaler.fit_transform(X_train)\n",
        "X_test_scaled = scaler.transform(X_test)\n",
        "\n",
        "# Initializing and training the Logistic Regression model\n",
        "model = LogisticRegression(max_iter=1000)\n",
        "model.fit(X_train_scaled, y_train)\n",
        "\n",
        "y_pred = model.predict(X_test_scaled)\n",
        "accuracy = accuracy_score(y_test, y_pred)\n",
        "print(f'Accuracy: {accuracy:.4f}\\n')\n",
        "\n",
        "print(classification_report(y_test, y_pred))"
      ],
      "metadata": {
        "id": "ayY1B59LZwZt"
      },
      "execution_count": null,
      "outputs": []
    },
    {
      "cell_type": "code",
      "execution_count": null,
      "metadata": {
        "colab": {
          "base_uri": "https://localhost:8080/"
        },
        "id": "vt1anrr0MrZ3",
        "outputId": "b6441c5a-57ac-47bd-e6f2-6457cd85d8aa"
      },
      "outputs": [
        {
          "output_type": "stream",
          "name": "stdout",
          "text": [
            "Accuracy: 0.9144\n",
            "\n",
            "              precision    recall  f1-score   support\n",
            "\n",
            "         0.0       0.93      0.97      0.95     22190\n",
            "         1.0       0.85      0.71      0.77      5774\n",
            "\n",
            "    accuracy                           0.91     27964\n",
            "   macro avg       0.89      0.84      0.86     27964\n",
            "weighted avg       0.91      0.91      0.91     27964\n",
            "\n"
          ]
        }
      ],
      "source": [
        "\n",
        "from sklearn.linear_model import LogisticRegression\n",
        "from sklearn.metrics import accuracy_score, classification_report\n",
        "from sklearn.preprocessing import StandardScaler\n",
        "\n",
        "\n",
        "# Standardize the features using StandardScaler\n",
        "scaler = StandardScaler()\n",
        "X_train_scaled = scaler.fit_transform(X_train)\n",
        "X_test_scaled = scaler.transform(X_test)\n",
        "\n",
        "# Initializing and training the Logistic Regression model\n",
        "model = LogisticRegression(max_iter=1000)\n",
        "model.fit(X_train_scaled, y_train)\n",
        "\n",
        "y_pred = model.predict(X_test_scaled)\n",
        "accuracy = accuracy_score(y_test, y_pred)\n",
        "print(f'Accuracy: {accuracy:.4f}\\n')\n",
        "\n",
        "print(classification_report(y_test, y_pred))"
      ]
    },
    {
      "cell_type": "markdown",
      "metadata": {
        "id": "x05H2PZRWhj5"
      },
      "source": [
        "# Decision Tree Classification"
      ]
    },
    {
      "cell_type": "markdown",
      "metadata": {
        "id": "UF_Z_99PW3HO"
      },
      "source": [
        "## Does scaling affect DT Classifier?\n",
        "\n",
        "As you can see, it is invariance to sclaing. Whether you scale or not, the splits made by the decision tree will remain the same because the algorithm simply compares feature values."
      ]
    },
    {
      "cell_type": "code",
      "execution_count": null,
      "metadata": {
        "colab": {
          "base_uri": "https://localhost:8080/"
        },
        "id": "VK2MjSREWqri",
        "outputId": "34349abf-7b50-43ec-88bd-8f045fe61e4f"
      },
      "outputs": [
        {
          "output_type": "stream",
          "name": "stdout",
          "text": [
            "Accuracy: 0.8801\n",
            "\n",
            "              precision    recall  f1-score   support\n",
            "\n",
            "         0.0       0.93      0.92      0.92     22190\n",
            "         1.0       0.70      0.72      0.71      5774\n",
            "\n",
            "    accuracy                           0.88     27964\n",
            "   macro avg       0.82      0.82      0.82     27964\n",
            "weighted avg       0.88      0.88      0.88     27964\n",
            "\n"
          ]
        }
      ],
      "source": [
        "from sklearn.tree import DecisionTreeClassifier\n",
        "\n",
        "# Initializing the Decision Tree Classifier model\n",
        "model = DecisionTreeClassifier(random_state=42)\n",
        "# Training the model on the non-scaled training data\n",
        "model.fit(X_train, y_train)\n",
        "\n",
        "# Predicting the target values (y) for the test set\n",
        "y_pred = model.predict(X_test)\n",
        "\n",
        "accuracy = accuracy_score(y_test, y_pred)\n",
        "print(f'Accuracy: {accuracy:.4f}\\n')\n",
        "\n",
        "print(classification_report(y_test, y_pred))"
      ]
    },
    {
      "cell_type": "code",
      "execution_count": null,
      "metadata": {
        "colab": {
          "base_uri": "https://localhost:8080/"
        },
        "id": "KY160TWyW9qX",
        "outputId": "13ab2ad6-f823-440c-ff14-e048441134bd"
      },
      "outputs": [
        {
          "output_type": "stream",
          "name": "stdout",
          "text": [
            "Accuracy: 0.8800\n",
            "\n",
            "              precision    recall  f1-score   support\n",
            "\n",
            "         0.0       0.93      0.92      0.92     22190\n",
            "         1.0       0.70      0.72      0.71      5774\n",
            "\n",
            "    accuracy                           0.88     27964\n",
            "   macro avg       0.82      0.82      0.82     27964\n",
            "weighted avg       0.88      0.88      0.88     27964\n",
            "\n"
          ]
        }
      ],
      "source": [
        "from sklearn.tree import DecisionTreeClassifier\n",
        "\n",
        "# Initializing the Decision Tree Classifier model\n",
        "model = DecisionTreeClassifier(random_state=42)\n",
        "# Training the model on the scaled training data\n",
        "model.fit(X_train_scaled, y_train)\n",
        "\n",
        "# Predicting the target values for the test set\n",
        "y_pred = model.predict(X_test_scaled)\n",
        "\n",
        "accuracy = accuracy_score(y_test, y_pred)\n",
        "print(f'Accuracy: {accuracy:.4f}\\n')\n",
        "\n",
        "print(classification_report(y_test, y_pred))\n",
        "# print(classification_report[1]['precision'])"
      ]
    },
    {
      "cell_type": "markdown",
      "source": [
        "## eXtreme Gradient Boosting : XG Boost Classifier"
      ],
      "metadata": {
        "id": "_wTV1W6Rq3xJ"
      }
    },
    {
      "cell_type": "code",
      "source": [
        "from xgboost import XGBClassifier\n",
        "from sklearn.metrics import accuracy_score, classification_report\n",
        "\n",
        "# Initializing the XGBoost Classifier model\n",
        "model = XGBClassifier(random_state=42, enable_categorical=True)\n",
        "\n",
        "# Training the model on the non-scaled training data\n",
        "model.fit(X_train, y_train)\n",
        "\n",
        "# Predicting the target values (y) for the non-scaled test set\n",
        "y_pred = model.predict(X_test)\n",
        "\n",
        "accuracy = accuracy_score(y_test, y_pred)\n",
        "print(f'Accuracy: {accuracy:.4f}\\n')\n",
        "\n",
        "print(classification_report(y_test, y_pred))"
      ],
      "metadata": {
        "colab": {
          "base_uri": "https://localhost:8080/"
        },
        "id": "ibt4ELyEsaT9",
        "outputId": "f4627c75-ff7d-47e0-e298-b8297c9156f9"
      },
      "execution_count": null,
      "outputs": [
        {
          "output_type": "stream",
          "name": "stdout",
          "text": [
            "Accuracy: 0.9259\n",
            "\n",
            "              precision    recall  f1-score   support\n",
            "\n",
            "         0.0       0.93      0.98      0.95    362778\n",
            "         1.0       0.89      0.72      0.79     90272\n",
            "\n",
            "    accuracy                           0.93    453050\n",
            "   macro avg       0.91      0.85      0.87    453050\n",
            "weighted avg       0.92      0.93      0.92    453050\n",
            "\n"
          ]
        }
      ]
    },
    {
      "cell_type": "code",
      "source": [
        "from sklearn.metrics import confusion_matrix, ConfusionMatrixDisplay\n",
        "\n",
        "# y_true = actual labels, y_pred = predicted labels\n",
        "cm = confusion_matrix(y_test, y_pred)\n",
        "\n",
        "# To display it as a plot:\n",
        "disp = ConfusionMatrixDisplay(confusion_matrix=cm)\n",
        "disp.plot()\n"
      ],
      "metadata": {
        "colab": {
          "base_uri": "https://localhost:8080/",
          "height": 467
        },
        "id": "OVd387z4JtUN",
        "outputId": "0612e09d-c608-4945-f17e-22730aa162b8"
      },
      "execution_count": null,
      "outputs": [
        {
          "output_type": "execute_result",
          "data": {
            "text/plain": [
              "<sklearn.metrics._plot.confusion_matrix.ConfusionMatrixDisplay at 0x7e83a27e4890>"
            ]
          },
          "metadata": {},
          "execution_count": 14
        },
        {
          "output_type": "display_data",
          "data": {
            "text/plain": [
              "<Figure size 640x480 with 2 Axes>"
            ],
            "image/png": "[encoded data removed]"
          },
          "metadata": {}
        }
      ]
    },
    {
      "cell_type": "code",
      "source": [
        "from xgboost import XGBClassifier\n",
        "from sklearn.metrics import accuracy_score, classification_report\n",
        "\n",
        "# Initializing the XGBoost Classifier model\n",
        "model = XGBClassifier(random_state=42)\n",
        "\n",
        "# Training the model on the scaled training data\n",
        "model.fit(X_train_scaled, y_train)\n",
        "\n",
        "# Predicting the target values (y) for the test set\n",
        "y_pred = model.predict(X_test_scaled)\n",
        "\n",
        "accuracy = accuracy_score(y_test, y_pred)\n",
        "print(f'Accuracy: {accuracy:.4f}\\n')\n",
        "\n",
        "print(classification_report(y_test, y_pred))"
      ],
      "metadata": {
        "id": "kv8aw2GROaik",
        "colab": {
          "base_uri": "https://localhost:8080/"
        },
        "outputId": "f56dfb27-1009-470c-e65b-0eac33879f31"
      },
      "execution_count": null,
      "outputs": [
        {
          "output_type": "stream",
          "name": "stdout",
          "text": [
            "Accuracy: 0.9259\n",
            "\n",
            "              precision    recall  f1-score   support\n",
            "\n",
            "         0.0       0.93      0.98      0.95    362778\n",
            "         1.0       0.89      0.72      0.79     90272\n",
            "\n",
            "    accuracy                           0.93    453050\n",
            "   macro avg       0.91      0.85      0.87    453050\n",
            "weighted avg       0.92      0.93      0.92    453050\n",
            "\n"
          ]
        }
      ]
    },
    {
      "cell_type": "markdown",
      "source": [
        "## Random Forest Classifier"
      ],
      "metadata": {
        "id": "oTUFipQLrBCY"
      }
    },
    {
      "cell_type": "code",
      "source": [
        "from sklearn.ensemble import RandomForestClassifier\n",
        "from sklearn.metrics import accuracy_score, classification_report\n",
        "\n",
        "# Initializing the Random Forest Classifier model\n",
        "model = RandomForestClassifier(random_state=42)\n",
        "\n",
        "# Training the model on the non-scaled training data\n",
        "model.fit(X_train, y_train)\n",
        "\n",
        "# Predicting the target values (y) for the non-scaled test set\n",
        "y_pred = model.predict(X_test)\n",
        "\n",
        "accuracy = accuracy_score(y_test, y_pred)\n",
        "print(f'Accuracy: {accuracy:.4f}\\n')\n",
        "\n",
        "print(classification_report(y_test, y_pred))"
      ],
      "metadata": {
        "colab": {
          "base_uri": "https://localhost:8080/"
        },
        "id": "8wwarnkss_Fk",
        "outputId": "9ca6e2a6-b8d4-4bc7-8f87-13915369b3b1"
      },
      "execution_count": null,
      "outputs": [
        {
          "output_type": "stream",
          "name": "stdout",
          "text": [
            "Accuracy: 0.9250\n",
            "\n",
            "              precision    recall  f1-score   support\n",
            "\n",
            "         0.0       0.93      0.98      0.95    362778\n",
            "         1.0       0.88      0.72      0.79     90272\n",
            "\n",
            "    accuracy                           0.92    453050\n",
            "   macro avg       0.91      0.85      0.87    453050\n",
            "weighted avg       0.92      0.92      0.92    453050\n",
            "\n"
          ]
        }
      ]
    },
    {
      "cell_type": "code",
      "source": [
        "from sklearn.ensemble import RandomForestClassifier\n",
        "from sklearn.metrics import accuracy_score, classification_report\n",
        "\n",
        "# Initializing the Random Forest Classifier model\n",
        "model = RandomForestClassifier(random_state=42)\n",
        "\n",
        "# Training the model on the scaled training data\n",
        "model.fit(X_train_scaled, y_train)\n",
        "\n",
        "# Predicting the target values (y) for the test set\n",
        "y_pred = model.predict(X_test_scaled)\n",
        "\n",
        "accuracy = accuracy_score(y_test, y_pred)\n",
        "print(f'Accuracy: {accuracy:.4f}\\n')\n",
        "\n",
        "print(classification_report(y_test, y_pred))"
      ],
      "metadata": {
        "colab": {
          "base_uri": "https://localhost:8080/"
        },
        "id": "ukZ4FHweqp5a",
        "outputId": "ede5d96d-6db6-4a1e-9444-1b99b2cd4167"
      },
      "execution_count": null,
      "outputs": [
        {
          "output_type": "stream",
          "name": "stdout",
          "text": [
            "Accuracy: 0.9250\n",
            "\n",
            "              precision    recall  f1-score   support\n",
            "\n",
            "         0.0       0.93      0.98      0.95    362778\n",
            "         1.0       0.88      0.72      0.79     90272\n",
            "\n",
            "    accuracy                           0.93    453050\n",
            "   macro avg       0.91      0.85      0.87    453050\n",
            "weighted avg       0.92      0.93      0.92    453050\n",
            "\n"
          ]
        }
      ]
    },
    {
      "cell_type": "markdown",
      "source": [
        "## Gradient Boosting Classifier"
      ],
      "metadata": {
        "id": "vJqtWOQjrNIA"
      }
    },
    {
      "cell_type": "code",
      "source": [
        "from sklearn.ensemble import GradientBoostingClassifier\n",
        "from sklearn.metrics import accuracy_score, classification_report\n",
        "from sklearn.impute import SimpleImputer\n",
        "\n",
        "# Initialize the Gradient Boosting Classifier model\n",
        "model = GradientBoostingClassifier(\n",
        "    n_estimators=100,\n",
        "    learning_rate=0.1,  # to prevents overfitting\n",
        "    max_depth=3,\n",
        "    random_state=42\n",
        ")\n",
        "\n",
        "# Impute missing values using SimpleImputer before fitting the model\n",
        "imputer = SimpleImputer(strategy='mean')\n",
        "X_train_imputed = imputer.fit_transform(X_train)\n",
        "X_test_imputed = imputer.transform(X_test)\n",
        "\n",
        "# Impute missing values in y_train using SimpleImputer with 'most_frequent' strategy\n",
        "imputer_y = SimpleImputer(strategy='most_frequent')\n",
        "# Convert y_train to a NumPy array before reshaping\n",
        "y_train_imputed = imputer_y.fit_transform(y_train.to_numpy().reshape(-1, 1))\n",
        "y_train_imputed = y_train_imputed.ravel() # Flatten back to original shape\n",
        "\n",
        "# Train the model on the imputed training data\n",
        "model.fit(X_train_imputed, y_train_imputed)\n",
        "\n",
        "# Predict the target values for the imputed test set\n",
        "y_pred = model.predict(X_test_imputed)\n",
        "\n",
        "# Evaluate the model's performance\n",
        "y_test_no_nan = y_test.dropna()  # Remove rows with NaNs from y_test\n",
        "y_pred_no_nan = model.predict(X_test_imputed[y_test.notna()])\n",
        "\n",
        "accuracy = accuracy_score(y_test_no_nan, y_pred_no_nan)\n",
        "\n",
        "print(f'Accuracy: {accuracy:.4f}\\n')\n",
        "\n",
        "print(classification_report(y_test_no_nan, y_pred_no_nan))"
      ],
      "metadata": {
        "colab": {
          "base_uri": "https://localhost:8080/"
        },
        "id": "qCp7dBxwXqYo",
        "outputId": "1c284680-851a-48f5-d556-2be45facef34"
      },
      "execution_count": null,
      "outputs": [
        {
          "output_type": "stream",
          "name": "stdout",
          "text": [
            "Accuracy: 0.9189\n",
            "\n",
            "              precision    recall  f1-score   support\n",
            "\n",
            "         0.0       0.93      0.97      0.95    362021\n",
            "         1.0       0.86      0.70      0.78     90085\n",
            "\n",
            "    accuracy                           0.92    452106\n",
            "   macro avg       0.90      0.84      0.86    452106\n",
            "weighted avg       0.92      0.92      0.92    452106\n",
            "\n"
          ]
        }
      ]
    },
    {
      "cell_type": "markdown",
      "source": [
        "## Guassian Naive Bayes"
      ],
      "metadata": {
        "id": "o85zQkzrLFeB"
      }
    },
    {
      "cell_type": "code",
      "source": [
        "from sklearn.naive_bayes import GaussianNB\n",
        "from sklearn.metrics import accuracy_score, classification_report\n",
        "\n",
        "# Initializing the Naive Bayes Classifier model\n",
        "model = GaussianNB()\n",
        "\n",
        "# Training the model on the non-scaled training data\n",
        "model.fit(X_train, y_train)\n",
        "\n",
        "# Predicting the target values (y) for the test set\n",
        "y_pred = model.predict(X_test)\n",
        "\n",
        "# Evaluating the model's performance\n",
        "accuracy = accuracy_score(y_test, y_pred)\n",
        "print(f'Accuracy: {accuracy:.4f}\\n')\n",
        "\n",
        "print(classification_report(y_test, y_pred))"
      ],
      "metadata": {
        "colab": {
          "base_uri": "https://localhost:8080/"
        },
        "id": "p59GI17FFHIC",
        "outputId": "c9c957d5-360f-4856-858a-100aef51ee4b"
      },
      "execution_count": null,
      "outputs": [
        {
          "output_type": "stream",
          "name": "stdout",
          "text": [
            "Accuracy: 0.9090\n",
            "\n",
            "              precision    recall  f1-score   support\n",
            "\n",
            "         0.0       0.94      0.95      0.94    362778\n",
            "         1.0       0.79      0.74      0.76     90272\n",
            "\n",
            "    accuracy                           0.91    453050\n",
            "   macro avg       0.86      0.85      0.85    453050\n",
            "weighted avg       0.91      0.91      0.91    453050\n",
            "\n"
          ]
        }
      ]
    },
    {
      "cell_type": "code",
      "source": [
        "from sklearn.naive_bayes import GaussianNB\n",
        "from sklearn.metrics import accuracy_score, classification_report\n",
        "\n",
        "# Initializing the Naive Bayes Classifier model\n",
        "model = GaussianNB()\n",
        "\n",
        "# Training the model on the non-scaled training data\n",
        "model.fit(X_train_scaled, y_train)\n",
        "\n",
        "# Predicting the target values (y) for the test set\n",
        "y_pred = model.predict(X_test)\n",
        "\n",
        "# Evaluating the model's performance\n",
        "accuracy = accuracy_score(y_test, y_pred)\n",
        "print(f'Accuracy: {accuracy:.4f}\\n')\n",
        "\n",
        "print(classification_report(y_test, y_pred))"
      ],
      "metadata": {
        "id": "5j42xy4_T6-a"
      },
      "execution_count": null,
      "outputs": []
    },
    {
      "cell_type": "markdown",
      "source": [
        "## **Neural Network Model**"
      ],
      "metadata": {
        "id": "rA26losi4TBR"
      }
    },
    {
      "cell_type": "code",
      "source": [
        "import numpy as np\n",
        "import pandas as pd\n",
        "from sklearn.model_selection import train_test_split\n",
        "from sklearn.preprocessing import StandardScaler\n",
        "from tensorflow.keras.models import Sequential\n",
        "from tensorflow.keras.layers import Dense, Dropout\n",
        "from tensorflow.keras.initializers import HeNormal\n",
        "from tensorflow.keras.optimizers import Adam\n",
        "\n",
        "# Assuming 'ARR_DEL15' is the target variable and it's already binary (0, 1)\n",
        "X = df.drop('ARR_DEL15', axis=1).values  # Input features\n",
        "y = df['ARR_DEL15'].values  # Target column\n",
        "\n",
        "# Data normalization\n",
        "scaler = StandardScaler()\n",
        "X_scaled = scaler.fit_transform(X)\n",
        "\n",
        "# Splitting data into train and test sets\n",
        "X_train, X_test, y_train, y_test = train_test_split(X_scaled, y, test_size=0.2, random_state=42)\n",
        "\n",
        "# Neural network architecture\n",
        "model = Sequential([\n",
        "    Dense(64, input_shape=(X_train.shape[1],), activation='relu', kernel_initializer=HeNormal()),\n",
        "    Dropout(0.5),\n",
        "    Dense(32, activation='relu', kernel_initializer=HeNormal()),\n",
        "    Dropout(0.5),\n",
        "    Dense(1, activation='sigmoid')\n",
        "])\n",
        "\n",
        "# Adjusted optimizer with a lower learning rate\n",
        "optimizer = Adam(learning_rate=0.001)\n",
        "\n",
        "model.compile(optimizer=optimizer, loss='binary_crossentropy', metrics=['accuracy'])\n",
        "\n",
        "# Model training\n",
        "history = model.fit(X_train, y_train, epochs=2, validation_data=(X_test, y_test), verbose=1)\n",
        "\n",
        "# Evaluate the model\n",
        "test_loss, test_acc = model.evaluate(X_test, y_test, verbose=2)\n",
        "print(f\"Test Accuracy: {test_acc:.4f}\")\n"
      ],
      "metadata": {
        "colab": {
          "base_uri": "https://localhost:8080/"
        },
        "id": "CdnTT144byUX",
        "outputId": "5f3fe20b-fc35-475d-b553-82897fea96e8"
      },
      "execution_count": null,
      "outputs": [
        {
          "output_type": "stream",
          "name": "stderr",
          "text": [
            "/usr/local/lib/python3.11/dist-packages/keras/src/layers/core/dense.py:87: UserWarning: Do not pass an `input_shape`/`input_dim` argument to a layer. When using Sequential models, prefer using an `Input(shape)` object as the first layer in the model instead.\n",
            "  super().__init__(activity_regularizer=activity_regularizer, **kwargs)\n"
          ]
        },
        {
          "output_type": "stream",
          "name": "stdout",
          "text": [
            "Epoch 1/2\n",
            "\u001b[1m57722/57722\u001b[0m \u001b[32m━━━━━━━━━━━━━━━━━━━━\u001b[0m\u001b[37m\u001b[0m \u001b[1m134s\u001b[0m 2ms/step - accuracy: 0.7837 - loss: nan - val_accuracy: 0.7840 - val_loss: nan\n",
            "Epoch 2/2\n",
            "\u001b[1m57722/57722\u001b[0m \u001b[32m━━━━━━━━━━━━━━━━━━━━\u001b[0m\u001b[37m\u001b[0m \u001b[1m129s\u001b[0m 2ms/step - accuracy: 0.7842 - loss: nan - val_accuracy: 0.7840 - val_loss: nan\n",
            "14431/14431 - 22s - 2ms/step - accuracy: 0.7840 - loss: nan\n",
            "Test Accuracy: 0.7840\n"
          ]
        }
      ]
    },
    {
      "cell_type": "markdown",
      "metadata": {
        "id": "aJ7TIT1_J47a"
      },
      "source": [
        "# Understanding the impact of different scaling techniques on these two models"
      ]
    },
    {
      "cell_type": "code",
      "execution_count": null,
      "metadata": {
        "colab": {
          "base_uri": "https://localhost:8080/"
        },
        "id": "t29FIgoLJ__l",
        "outputId": "cb80e8b1-9d60-44ad-c4fe-5a12b5ac48c5"
      },
      "outputs": [
        {
          "output_type": "stream",
          "name": "stderr",
          "text": [
            "/usr/local/lib/python3.11/dist-packages/sklearn/linear_model/_logistic.py:465: ConvergenceWarning: lbfgs failed to converge (status=1):\n",
            "STOP: TOTAL NO. of ITERATIONS REACHED LIMIT.\n",
            "\n",
            "Increase the number of iterations (max_iter) or scale the data as shown in:\n",
            "    https://scikit-learn.org/stable/modules/preprocessing.html\n",
            "Please also refer to the documentation for alternative solver options:\n",
            "    https://scikit-learn.org/stable/modules/linear_model.html#logistic-regression\n",
            "  n_iter_i = _check_optimize_result(\n"
          ]
        }
      ],
      "source": [
        "from sklearn.linear_model import LogisticRegression\n",
        "from sklearn.tree import DecisionTreeClassifier\n",
        "from sklearn.preprocessing import StandardScaler, MinMaxScaler, Normalizer\n",
        "from sklearn.metrics import accuracy_score, classification_report\n",
        "\n",
        "\n",
        "# Define scalers\n",
        "scalers = {\n",
        "    'none': None,\n",
        "    'standard': StandardScaler(),\n",
        "    'minmax': MinMaxScaler(),\n",
        "    'normal': Normalizer()\n",
        "}\n",
        "\n",
        "# Define models\n",
        "models = {\n",
        "    'LR': LogisticRegression(max_iter=1000),\n",
        "    'DT': DecisionTreeClassifier(random_state=42)\n",
        "}\n",
        "\n",
        "# List to store results for dataframe\n",
        "results = []\n",
        "\n",
        "# Loop through each scaler and model\n",
        "for scaler_name, scaler in scalers.items():\n",
        "\n",
        "    if scaler is not None:\n",
        "      X_train_scaled = scaler.fit_transform(X_train)\n",
        "      X_test_scaled = scaler.transform(X_test)\n",
        "    else:\n",
        "      X_train_scaled = X_train\n",
        "      X_test_scaled = X_test\n",
        "\n",
        "    for model_name, model in models.items():\n",
        "        model.fit(X_train_scaled, y_train)\n",
        "        y_pred = model.predict(X_test_scaled)\n",
        "\n",
        "        report = classification_report(y_test, y_pred, output_dict=True)\n",
        "\n",
        "        results.append({\n",
        "        'Model': model_name,\n",
        "        'Scaler': scaler_name,\n",
        "        'Accuracy': report['accuracy'],\n",
        "        'Precision (Class 1)': report['1.0']['precision'],\n",
        "        'Recall (Class 1)': report['1.0']['recall'],\n",
        "        'F1-Score (Class 1)': report['1.0']['f1-score']\n",
        "    })\n",
        "\n",
        "# Convert results to a DataFrame for nice display\n",
        "results_df = pd.DataFrame(results)\n",
        "\n"
      ]
    },
    {
      "cell_type": "code",
      "source": [
        "results_df.sort_values(by='Model', ascending= False)\n"
      ],
      "metadata": {
        "colab": {
          "base_uri": "https://localhost:8080/",
          "height": 301
        },
        "id": "r3hKgUjleq-7",
        "outputId": "59c76a68-5aa5-4075-e3c8-af66c2cafd60"
      },
      "execution_count": null,
      "outputs": [
        {
          "output_type": "execute_result",
          "data": {
            "text/plain": [
              "  Model    Scaler  Accuracy  Precision (Class 1)  Recall (Class 1)  \\\n",
              "0    LR      none  0.914259             0.866409          0.673542   \n",
              "2    LR  standard  0.915848             0.848590          0.703119   \n",
              "4    LR    minmax  0.912921             0.844199          0.690391   \n",
              "6    LR    normal  0.815674             0.836635          0.093096   \n",
              "1    DT      none  0.882931             0.699933          0.721985   \n",
              "3    DT  standard  0.882894             0.699849          0.721874   \n",
              "5    DT    minmax  0.883017             0.700141          0.722206   \n",
              "7    DT    normal  0.880468             0.696302          0.709600   \n",
              "\n",
              "   F1-Score (Class 1)  \n",
              "0            0.757898  \n",
              "2            0.769036  \n",
              "4            0.759587  \n",
              "6            0.167549  \n",
              "1            0.710788  \n",
              "3            0.710691  \n",
              "5            0.711002  \n",
              "7            0.702888  "
            ],
            "text/html": [
              "\n",
              "  <div id=\"df-76b85dba-9380-4d1f-91be-9b17465f4a53\" class=\"colab-df-container\">\n",
              "    <div>\n",
              "<style scoped>\n",
              "    .dataframe tbody tr th:only-of-type {\n",
              "        vertical-align: middle;\n",
              "    }\n",
              "\n",
              "    .dataframe tbody tr th {\n",
              "        vertical-align: top;\n",
              "    }\n",
              "\n",
              "    .dataframe thead th {\n",
              "        text-align: right;\n",
              "    }\n",
              "</style>\n",
              "<table border=\"1\" class=\"dataframe\">\n",
              "  <thead>\n",
              "    <tr style=\"text-align: right;\">\n",
              "      <th></th>\n",
              "      <th>Model</th>\n",
              "      <th>Scaler</th>\n",
              "      <th>Accuracy</th>\n",
              "      <th>Precision (Class 1)</th>\n",
              "      <th>Recall (Class 1)</th>\n",
              "      <th>F1-Score (Class 1)</th>\n",
              "    </tr>\n",
              "  </thead>\n",
              "  <tbody>\n",
              "    <tr>\n",
              "      <th>0</th>\n",
              "      <td>LR</td>\n",
              "      <td>none</td>\n",
              "      <td>0.914259</td>\n",
              "      <td>0.866409</td>\n",
              "      <td>0.673542</td>\n",
              "      <td>0.757898</td>\n",
              "    </tr>\n",
              "    <tr>\n",
              "      <th>2</th>\n",
              "      <td>LR</td>\n",
              "      <td>standard</td>\n",
              "      <td>0.915848</td>\n",
              "      <td>0.848590</td>\n",
              "      <td>0.703119</td>\n",
              "      <td>0.769036</td>\n",
              "    </tr>\n",
              "    <tr>\n",
              "      <th>4</th>\n",
              "      <td>LR</td>\n",
              "      <td>minmax</td>\n",
              "      <td>0.912921</td>\n",
              "      <td>0.844199</td>\n",
              "      <td>0.690391</td>\n",
              "      <td>0.759587</td>\n",
              "    </tr>\n",
              "    <tr>\n",
              "      <th>6</th>\n",
              "      <td>LR</td>\n",
              "      <td>normal</td>\n",
              "      <td>0.815674</td>\n",
              "      <td>0.836635</td>\n",
              "      <td>0.093096</td>\n",
              "      <td>0.167549</td>\n",
              "    </tr>\n",
              "    <tr>\n",
              "      <th>1</th>\n",
              "      <td>DT</td>\n",
              "      <td>none</td>\n",
              "      <td>0.882931</td>\n",
              "      <td>0.699933</td>\n",
              "      <td>0.721985</td>\n",
              "      <td>0.710788</td>\n",
              "    </tr>\n",
              "    <tr>\n",
              "      <th>3</th>\n",
              "      <td>DT</td>\n",
              "      <td>standard</td>\n",
              "      <td>0.882894</td>\n",
              "      <td>0.699849</td>\n",
              "      <td>0.721874</td>\n",
              "      <td>0.710691</td>\n",
              "    </tr>\n",
              "    <tr>\n",
              "      <th>5</th>\n",
              "      <td>DT</td>\n",
              "      <td>minmax</td>\n",
              "      <td>0.883017</td>\n",
              "      <td>0.700141</td>\n",
              "      <td>0.722206</td>\n",
              "      <td>0.711002</td>\n",
              "    </tr>\n",
              "    <tr>\n",
              "      <th>7</th>\n",
              "      <td>DT</td>\n",
              "      <td>normal</td>\n",
              "      <td>0.880468</td>\n",
              "      <td>0.696302</td>\n",
              "      <td>0.709600</td>\n",
              "      <td>0.702888</td>\n",
              "    </tr>\n",
              "  </tbody>\n",
              "</table>\n",
              "</div>\n",
              "    <div class=\"colab-df-buttons\">\n",
              "\n",
              "  <div class=\"colab-df-container\">\n",
              "    <button class=\"colab-df-convert\" onclick=\"convertToInteractive('df-76b85dba-9380-4d1f-91be-9b17465f4a53')\"\n",
              "            title=\"Convert this dataframe to an interactive table.\"\n",
              "            style=\"display:none;\">\n",
              "\n",
              "  <svg xmlns=\"http://www.w3.org/2000/svg\" height=\"24px\" viewBox=\"0 -960 960 960\">\n",
              "    <path d=\"M120-120v-720h720v720H120Zm60-500h600v-160H180v160Zm220 220h160v-160H400v160Zm0 220h160v-160H400v160ZM180-400h160v-160H180v160Zm440 0h160v-160H620v160ZM180-180h160v-160H180v160Zm440 0h160v-160H620v160Z\"/>\n",
              "  </svg>\n",
              "    </button>\n",
              "\n",
              "  <style>\n",
              "    .colab-df-container {\n",
              "      display:flex;\n",
              "      gap: 12px;\n",
              "    }\n",
              "\n",
              "    .colab-df-convert {\n",
              "      background-color: #E8F0FE;\n",
              "      border: none;\n",
              "      border-radius: 50%;\n",
              "      cursor: pointer;\n",
              "      display: none;\n",
              "      fill: #1967D2;\n",
              "      height: 32px;\n",
              "      padding: 0 0 0 0;\n",
              "      width: 32px;\n",
              "    }\n",
              "\n",
              "    .colab-df-convert:hover {\n",
              "      background-color: #E2EBFA;\n",
              "      box-shadow: 0px 1px 2px rgba(60, 64, 67, 0.3), 0px 1px 3px 1px rgba(60, 64, 67, 0.15);\n",
              "      fill: #174EA6;\n",
              "    }\n",
              "\n",
              "    .colab-df-buttons div {\n",
              "      margin-bottom: 4px;\n",
              "    }\n",
              "\n",
              "    [theme=dark] .colab-df-convert {\n",
              "      background-color: #3B4455;\n",
              "      fill: #D2E3FC;\n",
              "    }\n",
              "\n",
              "    [theme=dark] .colab-df-convert:hover {\n",
              "      background-color: #434B5C;\n",
              "      box-shadow: 0px 1px 3px 1px rgba(0, 0, 0, 0.15);\n",
              "      filter: drop-shadow(0px 1px 2px rgba(0, 0, 0, 0.3));\n",
              "      fill: #FFFFFF;\n",
              "    }\n",
              "  </style>\n",
              "\n",
              "    <script>\n",
              "      const buttonEl =\n",
              "        document.querySelector('#df-76b85dba-9380-4d1f-91be-9b17465f4a53 button.colab-df-convert');\n",
              "      buttonEl.style.display =\n",
              "        google.colab.kernel.accessAllowed ? 'block' : 'none';\n",
              "\n",
              "      async function convertToInteractive(key) {\n",
              "        const element = document.querySelector('#df-76b85dba-9380-4d1f-91be-9b17465f4a53');\n",
              "        const dataTable =\n",
              "          await google.colab.kernel.invokeFunction('convertToInteractive',\n",
              "                                                    [key], {});\n",
              "        if (!dataTable) return;\n",
              "\n",
              "        const docLinkHtml = 'Like what you see? Visit the ' +\n",
              "          '<a target=\"_blank\" href=https://colab.research.google.com/notebooks/data_table.ipynb>data table notebook</a>'\n",
              "          + ' to learn more about interactive tables.';\n",
              "        element.innerHTML = '';\n",
              "        dataTable['output_type'] = 'display_data';\n",
              "        await google.colab.output.renderOutput(dataTable, element);\n",
              "        const docLink = document.createElement('div');\n",
              "        docLink.innerHTML = docLinkHtml;\n",
              "        element.appendChild(docLink);\n",
              "      }\n",
              "    </script>\n",
              "  </div>\n",
              "\n",
              "\n",
              "<div id=\"df-13fefbfd-7896-48c9-9132-629d28710747\">\n",
              "  <button class=\"colab-df-quickchart\" onclick=\"quickchart('df-13fefbfd-7896-48c9-9132-629d28710747')\"\n",
              "            title=\"Suggest charts\"\n",
              "            style=\"display:none;\">\n",
              "\n",
              "<svg xmlns=\"http://www.w3.org/2000/svg\" height=\"24px\"viewBox=\"0 0 24 24\"\n",
              "     width=\"24px\">\n",
              "    <g>\n",
              "        <path d=\"M19 3H5c-1.1 0-2 .9-2 2v14c0 1.1.9 2 2 2h14c1.1 0 2-.9 2-2V5c0-1.1-.9-2-2-2zM9 17H7v-7h2v7zm4 0h-2V7h2v10zm4 0h-2v-4h2v4z\"/>\n",
              "    </g>\n",
              "</svg>\n",
              "  </button>\n",
              "\n",
              "<style>\n",
              "  .colab-df-quickchart {\n",
              "      --bg-color: #E8F0FE;\n",
              "      --fill-color: #1967D2;\n",
              "      --hover-bg-color: #E2EBFA;\n",
              "      --hover-fill-color: #174EA6;\n",
              "      --disabled-fill-color: #AAA;\n",
              "      --disabled-bg-color: #DDD;\n",
              "  }\n",
              "\n",
              "  [theme=dark] .colab-df-quickchart {\n",
              "      --bg-color: #3B4455;\n",
              "      --fill-color: #D2E3FC;\n",
              "      --hover-bg-color: #434B5C;\n",
              "      --hover-fill-color: #FFFFFF;\n",
              "      --disabled-bg-color: #3B4455;\n",
              "      --disabled-fill-color: #666;\n",
              "  }\n",
              "\n",
              "  .colab-df-quickchart {\n",
              "    background-color: var(--bg-color);\n",
              "    border: none;\n",
              "    border-radius: 50%;\n",
              "    cursor: pointer;\n",
              "    display: none;\n",
              "    fill: var(--fill-color);\n",
              "    height: 32px;\n",
              "    padding: 0;\n",
              "    width: 32px;\n",
              "  }\n",
              "\n",
              "  .colab-df-quickchart:hover {\n",
              "    background-color: var(--hover-bg-color);\n",
              "    box-shadow: 0 1px 2px rgba(60, 64, 67, 0.3), 0 1px 3px 1px rgba(60, 64, 67, 0.15);\n",
              "    fill: var(--button-hover-fill-color);\n",
              "  }\n",
              "\n",
              "  .colab-df-quickchart-complete:disabled,\n",
              "  .colab-df-quickchart-complete:disabled:hover {\n",
              "    background-color: var(--disabled-bg-color);\n",
              "    fill: var(--disabled-fill-color);\n",
              "    box-shadow: none;\n",
              "  }\n",
              "\n",
              "  .colab-df-spinner {\n",
              "    border: 2px solid var(--fill-color);\n",
              "    border-color: transparent;\n",
              "    border-bottom-color: var(--fill-color);\n",
              "    animation:\n",
              "      spin 1s steps(1) infinite;\n",
              "  }\n",
              "\n",
              "  @keyframes spin {\n",
              "    0% {\n",
              "      border-color: transparent;\n",
              "      border-bottom-color: var(--fill-color);\n",
              "      border-left-color: var(--fill-color);\n",
              "    }\n",
              "    20% {\n",
              "      border-color: transparent;\n",
              "      border-left-color: var(--fill-color);\n",
              "      border-top-color: var(--fill-color);\n",
              "    }\n",
              "    30% {\n",
              "      border-color: transparent;\n",
              "      border-left-color: var(--fill-color);\n",
              "      border-top-color: var(--fill-color);\n",
              "      border-right-color: var(--fill-color);\n",
              "    }\n",
              "    40% {\n",
              "      border-color: transparent;\n",
              "      border-right-color: var(--fill-color);\n",
              "      border-top-color: var(--fill-color);\n",
              "    }\n",
              "    60% {\n",
              "      border-color: transparent;\n",
              "      border-right-color: var(--fill-color);\n",
              "    }\n",
              "    80% {\n",
              "      border-color: transparent;\n",
              "      border-right-color: var(--fill-color);\n",
              "      border-bottom-color: var(--fill-color);\n",
              "    }\n",
              "    90% {\n",
              "      border-color: transparent;\n",
              "      border-bottom-color: var(--fill-color);\n",
              "    }\n",
              "  }\n",
              "</style>\n",
              "\n",
              "  <script>\n",
              "    async function quickchart(key) {\n",
              "      const quickchartButtonEl =\n",
              "        document.querySelector('#' + key + ' button');\n",
              "      quickchartButtonEl.disabled = true;  // To prevent multiple clicks.\n",
              "      quickchartButtonEl.classList.add('colab-df-spinner');\n",
              "      try {\n",
              "        const charts = await google.colab.kernel.invokeFunction(\n",
              "            'suggestCharts', [key], {});\n",
              "      } catch (error) {\n",
              "        console.error('Error during call to suggestCharts:', error);\n",
              "      }\n",
              "      quickchartButtonEl.classList.remove('colab-df-spinner');\n",
              "      quickchartButtonEl.classList.add('colab-df-quickchart-complete');\n",
              "    }\n",
              "    (() => {\n",
              "      let quickchartButtonEl =\n",
              "        document.querySelector('#df-13fefbfd-7896-48c9-9132-629d28710747 button');\n",
              "      quickchartButtonEl.style.display =\n",
              "        google.colab.kernel.accessAllowed ? 'block' : 'none';\n",
              "    })();\n",
              "  </script>\n",
              "</div>\n",
              "\n",
              "    </div>\n",
              "  </div>\n"
            ],
            "application/vnd.google.colaboratory.intrinsic+json": {
              "type": "dataframe",
              "summary": "{\n  \"name\": \"results_df\",\n  \"rows\": 8,\n  \"fields\": [\n    {\n      \"column\": \"Model\",\n      \"properties\": {\n        \"dtype\": \"category\",\n        \"num_unique_values\": 2,\n        \"samples\": [\n          \"DT\",\n          \"LR\"\n        ],\n        \"semantic_type\": \"\",\n        \"description\": \"\"\n      }\n    },\n    {\n      \"column\": \"Scaler\",\n      \"properties\": {\n        \"dtype\": \"string\",\n        \"num_unique_values\": 4,\n        \"samples\": [\n          \"standard\",\n          \"normal\"\n        ],\n        \"semantic_type\": \"\",\n        \"description\": \"\"\n      }\n    },\n    {\n      \"column\": \"Accuracy\",\n      \"properties\": {\n        \"dtype\": \"number\",\n        \"std\": 0.03255452550289402,\n        \"min\": 0.8156737666924181,\n        \"max\": 0.9158481403818564,\n        \"num_unique_values\": 8,\n        \"samples\": [\n          0.9158481403818564,\n          0.8828937203399183\n        ],\n        \"semantic_type\": \"\",\n        \"description\": \"\"\n      }\n    },\n    {\n      \"column\": \"Precision (Class 1)\",\n      \"properties\": {\n        \"dtype\": \"number\",\n        \"std\": 0.08056116217553116,\n        \"min\": 0.6963020131310057,\n        \"max\": 0.8664092223948017,\n        \"num_unique_values\": 8,\n        \"samples\": [\n          0.8485901840982927,\n          0.6998485710910399\n        ],\n        \"semantic_type\": \"\",\n        \"description\": \"\"\n      }\n    },\n    {\n      \"column\": \"Recall (Class 1)\",\n      \"properties\": {\n        \"dtype\": \"number\",\n        \"std\": 0.217417591898406,\n        \"min\": 0.09309641970932293,\n        \"max\": 0.7222062211981567,\n        \"num_unique_values\": 8,\n        \"samples\": [\n          0.7031194611839773,\n          0.7218738922367954\n        ],\n        \"semantic_type\": \"\",\n        \"description\": \"\"\n      }\n    },\n    {\n      \"column\": \"F1-Score (Class 1)\",\n      \"properties\": {\n        \"dtype\": \"number\",\n        \"std\": 0.20123798596344084,\n        \"min\": 0.16754887008184058,\n        \"max\": 0.7690359788936748,\n        \"num_unique_values\": 8,\n        \"samples\": [\n          0.7690359788936748,\n          0.7106906235515446\n        ],\n        \"semantic_type\": \"\",\n        \"description\": \"\"\n      }\n    }\n  ]\n}"
            }
          },
          "metadata": {},
          "execution_count": 12
        }
      ]
    },
    {
      "cell_type": "markdown",
      "metadata": {
        "id": "XqE_5Zp5BM33"
      },
      "source": [
        "# Answering Interesting Questions"
      ]
    },
    {
      "cell_type": "markdown",
      "metadata": {
        "id": "jHpiFi34BSGK"
      },
      "source": [
        "## Q1) In this specific year, what are the top 10 busiest airports?"
      ]
    },
    {
      "cell_type": "code",
      "execution_count": null,
      "metadata": {
        "colab": {
          "base_uri": "https://localhost:8080/",
          "height": 350
        },
        "id": "SHK2jzcPBZVL",
        "outputId": "2a3f3384-fd9f-4189-846c-c9c1535c12cf"
      },
      "outputs": [
        {
          "output_type": "display_data",
          "data": {
            "text/plain": [
              "<Figure size 1400x500 with 2 Axes>"
            ],
            "image/png": "[encoded data removed]"
          },
          "metadata": {}
        }
      ],
      "source": [
        "# We have taken the top 10 busiest origin airports based on the number of departures\n",
        "top_origins = df['ORIGIN'].value_counts().head(10)\n",
        "# We have taken the top 10 busiest destination airports based on the number of arrivals\n",
        "top_destinations = df['DEST'].value_counts().head(10)\n",
        "\n",
        "fig, axes = plt.subplots(1, 2, figsize=(14, 5))\n",
        "\n",
        "# We have plotted the horizontal bar chart for top origin airports\n",
        "axes[0].barh(top_origins.index[::-1], top_origins.values[::-1], color='steelblue')\n",
        "axes[0].set_title('Top 10 Busiest Origin Airports')\n",
        "axes[0].set_xlabel('Number of Departures')\n",
        "axes[0].set_ylabel('Airport Code')\n",
        "\n",
        "# We have plotted the horizontal bar chart for top destination airports\n",
        "axes[1].barh(top_destinations.index[::-1], top_destinations.values[::-1], color='indianred')\n",
        "axes[1].set_title('Top 10 Busiest Destination Airports')\n",
        "axes[1].set_xlabel('Number of Arrivals')\n",
        "axes[1].set_ylabel('Airport Code')\n",
        "\n",
        "plt.tight_layout()\n",
        "plt.show()\n"
      ]
    },
    {
      "cell_type": "markdown",
      "metadata": {
        "id": "qEhpmaylE7Bw"
      },
      "source": [
        "**Observation:**\n",
        "\n",
        "\n",
        "1.  There is no major directional bias in the flight data.\n",
        "2.  If an airport is primarily a hub, you'd expect a very close match between take-offs and landings.\n",
        "\n"
      ]
    },
    {
      "cell_type": "markdown",
      "metadata": {
        "id": "WRyqsrD3FiCD"
      },
      "source": [
        "## Q2) What is the average delay time for each airline?\n"
      ]
    },
    {
      "cell_type": "code",
      "execution_count": null,
      "metadata": {
        "colab": {
          "base_uri": "https://localhost:8080/",
          "height": 226
        },
        "id": "_6SDIy6GIlqO",
        "outputId": "07e925e5-7f2f-4846-f986-27ce2b40fa7f"
      },
      "outputs": [
        {
          "output_type": "execute_result",
          "data": {
            "text/plain": [
              "   YEAR  DAY_OF_MONTH  DAY_OF_WEEK OP_UNIQUE_CARRIER ORIGIN ORIGIN_STATE_ABR  \\\n",
              "0  1998             1            3                AA    ABQ               NM   \n",
              "1  1998             1            3                AA    ABQ               NM   \n",
              "2  1998             1            3                AA    ABQ               NM   \n",
              "3  1998             1            3                AA    ABQ               NM   \n",
              "4  1998             1            3                AA    ABQ               NM   \n",
              "\n",
              "  DEST DEST_STATE_ABR  DEP_TIME DEP_DEL15 DEP_DELAY_GROUP  TAXI_OUT  \\\n",
              "0  DFW             TX     548.0       0.0            -1.0      11.0   \n",
              "1  DFW             TX     703.0       0.0            -1.0      12.0   \n",
              "2  DFW             TX     856.0       0.0            -1.0      10.0   \n",
              "3  DFW             TX    1334.0       0.0             0.0       9.0   \n",
              "4  DFW             TX    1635.0       0.0            -1.0      12.0   \n",
              "\n",
              "   WHEELS_OFF ARR_DEL15 CANCELLED DIVERTED  CRS_ELAPSED_TIME  DISTANCE  \\\n",
              "0       559.0       0.0       0.0      0.0              96.0     569.0   \n",
              "1       715.0       0.0       0.0      0.0             102.0     569.0   \n",
              "2       906.0       0.0       0.0      0.0             108.0     569.0   \n",
              "3      1343.0       0.0       0.0      0.0             100.0     569.0   \n",
              "4      1647.0       0.0       0.0      0.0             104.0     569.0   \n",
              "\n",
              "   DISTANCE_GROUP  \n",
              "0             3.0  \n",
              "1             3.0  \n",
              "2             3.0  \n",
              "3             3.0  \n",
              "4             3.0  "
            ],
            "text/html": [
              "\n",
              "  <div id=\"df-7d89e894-b970-4de2-a3e0-3dcd68e80726\" class=\"colab-df-container\">\n",
              "    <div>\n",
              "<style scoped>\n",
              "    .dataframe tbody tr th:only-of-type {\n",
              "        vertical-align: middle;\n",
              "    }\n",
              "\n",
              "    .dataframe tbody tr th {\n",
              "        vertical-align: top;\n",
              "    }\n",
              "\n",
              "    .dataframe thead th {\n",
              "        text-align: right;\n",
              "    }\n",
              "</style>\n",
              "<table border=\"1\" class=\"dataframe\">\n",
              "  <thead>\n",
              "    <tr style=\"text-align: right;\">\n",
              "      <th></th>\n",
              "      <th>YEAR</th>\n",
              "      <th>DAY_OF_MONTH</th>\n",
              "      <th>DAY_OF_WEEK</th>\n",
              "      <th>OP_UNIQUE_CARRIER</th>\n",
              "      <th>ORIGIN</th>\n",
              "      <th>ORIGIN_STATE_ABR</th>\n",
              "      <th>DEST</th>\n",
              "      <th>DEST_STATE_ABR</th>\n",
              "      <th>DEP_TIME</th>\n",
              "      <th>DEP_DEL15</th>\n",
              "      <th>DEP_DELAY_GROUP</th>\n",
              "      <th>TAXI_OUT</th>\n",
              "      <th>WHEELS_OFF</th>\n",
              "      <th>ARR_DEL15</th>\n",
              "      <th>CANCELLED</th>\n",
              "      <th>DIVERTED</th>\n",
              "      <th>CRS_ELAPSED_TIME</th>\n",
              "      <th>DISTANCE</th>\n",
              "      <th>DISTANCE_GROUP</th>\n",
              "    </tr>\n",
              "  </thead>\n",
              "  <tbody>\n",
              "    <tr>\n",
              "      <th>0</th>\n",
              "      <td>1998</td>\n",
              "      <td>1</td>\n",
              "      <td>3</td>\n",
              "      <td>AA</td>\n",
              "      <td>ABQ</td>\n",
              "      <td>NM</td>\n",
              "      <td>DFW</td>\n",
              "      <td>TX</td>\n",
              "      <td>548.0</td>\n",
              "      <td>0.0</td>\n",
              "      <td>-1.0</td>\n",
              "      <td>11.0</td>\n",
              "      <td>559.0</td>\n",
              "      <td>0.0</td>\n",
              "      <td>0.0</td>\n",
              "      <td>0.0</td>\n",
              "      <td>96.0</td>\n",
              "      <td>569.0</td>\n",
              "      <td>3.0</td>\n",
              "    </tr>\n",
              "    <tr>\n",
              "      <th>1</th>\n",
              "      <td>1998</td>\n",
              "      <td>1</td>\n",
              "      <td>3</td>\n",
              "      <td>AA</td>\n",
              "      <td>ABQ</td>\n",
              "      <td>NM</td>\n",
              "      <td>DFW</td>\n",
              "      <td>TX</td>\n",
              "      <td>703.0</td>\n",
              "      <td>0.0</td>\n",
              "      <td>-1.0</td>\n",
              "      <td>12.0</td>\n",
              "      <td>715.0</td>\n",
              "      <td>0.0</td>\n",
              "      <td>0.0</td>\n",
              "      <td>0.0</td>\n",
              "      <td>102.0</td>\n",
              "      <td>569.0</td>\n",
              "      <td>3.0</td>\n",
              "    </tr>\n",
              "    <tr>\n",
              "      <th>2</th>\n",
              "      <td>1998</td>\n",
              "      <td>1</td>\n",
              "      <td>3</td>\n",
              "      <td>AA</td>\n",
              "      <td>ABQ</td>\n",
              "      <td>NM</td>\n",
              "      <td>DFW</td>\n",
              "      <td>TX</td>\n",
              "      <td>856.0</td>\n",
              "      <td>0.0</td>\n",
              "      <td>-1.0</td>\n",
              "      <td>10.0</td>\n",
              "      <td>906.0</td>\n",
              "      <td>0.0</td>\n",
              "      <td>0.0</td>\n",
              "      <td>0.0</td>\n",
              "      <td>108.0</td>\n",
              "      <td>569.0</td>\n",
              "      <td>3.0</td>\n",
              "    </tr>\n",
              "    <tr>\n",
              "      <th>3</th>\n",
              "      <td>1998</td>\n",
              "      <td>1</td>\n",
              "      <td>3</td>\n",
              "      <td>AA</td>\n",
              "      <td>ABQ</td>\n",
              "      <td>NM</td>\n",
              "      <td>DFW</td>\n",
              "      <td>TX</td>\n",
              "      <td>1334.0</td>\n",
              "      <td>0.0</td>\n",
              "      <td>0.0</td>\n",
              "      <td>9.0</td>\n",
              "      <td>1343.0</td>\n",
              "      <td>0.0</td>\n",
              "      <td>0.0</td>\n",
              "      <td>0.0</td>\n",
              "      <td>100.0</td>\n",
              "      <td>569.0</td>\n",
              "      <td>3.0</td>\n",
              "    </tr>\n",
              "    <tr>\n",
              "      <th>4</th>\n",
              "      <td>1998</td>\n",
              "      <td>1</td>\n",
              "      <td>3</td>\n",
              "      <td>AA</td>\n",
              "      <td>ABQ</td>\n",
              "      <td>NM</td>\n",
              "      <td>DFW</td>\n",
              "      <td>TX</td>\n",
              "      <td>1635.0</td>\n",
              "      <td>0.0</td>\n",
              "      <td>-1.0</td>\n",
              "      <td>12.0</td>\n",
              "      <td>1647.0</td>\n",
              "      <td>0.0</td>\n",
              "      <td>0.0</td>\n",
              "      <td>0.0</td>\n",
              "      <td>104.0</td>\n",
              "      <td>569.0</td>\n",
              "      <td>3.0</td>\n",
              "    </tr>\n",
              "  </tbody>\n",
              "</table>\n",
              "</div>\n",
              "    <div class=\"colab-df-buttons\">\n",
              "\n",
              "  <div class=\"colab-df-container\">\n",
              "    <button class=\"colab-df-convert\" onclick=\"convertToInteractive('df-7d89e894-b970-4de2-a3e0-3dcd68e80726')\"\n",
              "            title=\"Convert this dataframe to an interactive table.\"\n",
              "            style=\"display:none;\">\n",
              "\n",
              "  <svg xmlns=\"http://www.w3.org/2000/svg\" height=\"24px\" viewBox=\"0 -960 960 960\">\n",
              "    <path d=\"M120-120v-720h720v720H120Zm60-500h600v-160H180v160Zm220 220h160v-160H400v160Zm0 220h160v-160H400v160ZM180-400h160v-160H180v160Zm440 0h160v-160H620v160ZM180-180h160v-160H180v160Zm440 0h160v-160H620v160Z\"/>\n",
              "  </svg>\n",
              "    </button>\n",
              "\n",
              "  <style>\n",
              "    .colab-df-container {\n",
              "      display:flex;\n",
              "      gap: 12px;\n",
              "    }\n",
              "\n",
              "    .colab-df-convert {\n",
              "      background-color: #E8F0FE;\n",
              "      border: none;\n",
              "      border-radius: 50%;\n",
              "      cursor: pointer;\n",
              "      display: none;\n",
              "      fill: #1967D2;\n",
              "      height: 32px;\n",
              "      padding: 0 0 0 0;\n",
              "      width: 32px;\n",
              "    }\n",
              "\n",
              "    .colab-df-convert:hover {\n",
              "      background-color: #E2EBFA;\n",
              "      box-shadow: 0px 1px 2px rgba(60, 64, 67, 0.3), 0px 1px 3px 1px rgba(60, 64, 67, 0.15);\n",
              "      fill: #174EA6;\n",
              "    }\n",
              "\n",
              "    .colab-df-buttons div {\n",
              "      margin-bottom: 4px;\n",
              "    }\n",
              "\n",
              "    [theme=dark] .colab-df-convert {\n",
              "      background-color: #3B4455;\n",
              "      fill: #D2E3FC;\n",
              "    }\n",
              "\n",
              "    [theme=dark] .colab-df-convert:hover {\n",
              "      background-color: #434B5C;\n",
              "      box-shadow: 0px 1px 3px 1px rgba(0, 0, 0, 0.15);\n",
              "      filter: drop-shadow(0px 1px 2px rgba(0, 0, 0, 0.3));\n",
              "      fill: #FFFFFF;\n",
              "    }\n",
              "  </style>\n",
              "\n",
              "    <script>\n",
              "      const buttonEl =\n",
              "        document.querySelector('#df-7d89e894-b970-4de2-a3e0-3dcd68e80726 button.colab-df-convert');\n",
              "      buttonEl.style.display =\n",
              "        google.colab.kernel.accessAllowed ? 'block' : 'none';\n",
              "\n",
              "      async function convertToInteractive(key) {\n",
              "        const element = document.querySelector('#df-7d89e894-b970-4de2-a3e0-3dcd68e80726');\n",
              "        const dataTable =\n",
              "          await google.colab.kernel.invokeFunction('convertToInteractive',\n",
              "                                                    [key], {});\n",
              "        if (!dataTable) return;\n",
              "\n",
              "        const docLinkHtml = 'Like what you see? Visit the ' +\n",
              "          '<a target=\"_blank\" href=https://colab.research.google.com/notebooks/data_table.ipynb>data table notebook</a>'\n",
              "          + ' to learn more about interactive tables.';\n",
              "        element.innerHTML = '';\n",
              "        dataTable['output_type'] = 'display_data';\n",
              "        await google.colab.output.renderOutput(dataTable, element);\n",
              "        const docLink = document.createElement('div');\n",
              "        docLink.innerHTML = docLinkHtml;\n",
              "        element.appendChild(docLink);\n",
              "      }\n",
              "    </script>\n",
              "  </div>\n",
              "\n",
              "\n",
              "<div id=\"df-4c302c31-4425-420e-87cd-ee4d0b9f1356\">\n",
              "  <button class=\"colab-df-quickchart\" onclick=\"quickchart('df-4c302c31-4425-420e-87cd-ee4d0b9f1356')\"\n",
              "            title=\"Suggest charts\"\n",
              "            style=\"display:none;\">\n",
              "\n",
              "<svg xmlns=\"http://www.w3.org/2000/svg\" height=\"24px\"viewBox=\"0 0 24 24\"\n",
              "     width=\"24px\">\n",
              "    <g>\n",
              "        <path d=\"M19 3H5c-1.1 0-2 .9-2 2v14c0 1.1.9 2 2 2h14c1.1 0 2-.9 2-2V5c0-1.1-.9-2-2-2zM9 17H7v-7h2v7zm4 0h-2V7h2v10zm4 0h-2v-4h2v4z\"/>\n",
              "    </g>\n",
              "</svg>\n",
              "  </button>\n",
              "\n",
              "<style>\n",
              "  .colab-df-quickchart {\n",
              "      --bg-color: #E8F0FE;\n",
              "      --fill-color: #1967D2;\n",
              "      --hover-bg-color: #E2EBFA;\n",
              "      --hover-fill-color: #174EA6;\n",
              "      --disabled-fill-color: #AAA;\n",
              "      --disabled-bg-color: #DDD;\n",
              "  }\n",
              "\n",
              "  [theme=dark] .colab-df-quickchart {\n",
              "      --bg-color: #3B4455;\n",
              "      --fill-color: #D2E3FC;\n",
              "      --hover-bg-color: #434B5C;\n",
              "      --hover-fill-color: #FFFFFF;\n",
              "      --disabled-bg-color: #3B4455;\n",
              "      --disabled-fill-color: #666;\n",
              "  }\n",
              "\n",
              "  .colab-df-quickchart {\n",
              "    background-color: var(--bg-color);\n",
              "    border: none;\n",
              "    border-radius: 50%;\n",
              "    cursor: pointer;\n",
              "    display: none;\n",
              "    fill: var(--fill-color);\n",
              "    height: 32px;\n",
              "    padding: 0;\n",
              "    width: 32px;\n",
              "  }\n",
              "\n",
              "  .colab-df-quickchart:hover {\n",
              "    background-color: var(--hover-bg-color);\n",
              "    box-shadow: 0 1px 2px rgba(60, 64, 67, 0.3), 0 1px 3px 1px rgba(60, 64, 67, 0.15);\n",
              "    fill: var(--button-hover-fill-color);\n",
              "  }\n",
              "\n",
              "  .colab-df-quickchart-complete:disabled,\n",
              "  .colab-df-quickchart-complete:disabled:hover {\n",
              "    background-color: var(--disabled-bg-color);\n",
              "    fill: var(--disabled-fill-color);\n",
              "    box-shadow: none;\n",
              "  }\n",
              "\n",
              "  .colab-df-spinner {\n",
              "    border: 2px solid var(--fill-color);\n",
              "    border-color: transparent;\n",
              "    border-bottom-color: var(--fill-color);\n",
              "    animation:\n",
              "      spin 1s steps(1) infinite;\n",
              "  }\n",
              "\n",
              "  @keyframes spin {\n",
              "    0% {\n",
              "      border-color: transparent;\n",
              "      border-bottom-color: var(--fill-color);\n",
              "      border-left-color: var(--fill-color);\n",
              "    }\n",
              "    20% {\n",
              "      border-color: transparent;\n",
              "      border-left-color: var(--fill-color);\n",
              "      border-top-color: var(--fill-color);\n",
              "    }\n",
              "    30% {\n",
              "      border-color: transparent;\n",
              "      border-left-color: var(--fill-color);\n",
              "      border-top-color: var(--fill-color);\n",
              "      border-right-color: var(--fill-color);\n",
              "    }\n",
              "    40% {\n",
              "      border-color: transparent;\n",
              "      border-right-color: var(--fill-color);\n",
              "      border-top-color: var(--fill-color);\n",
              "    }\n",
              "    60% {\n",
              "      border-color: transparent;\n",
              "      border-right-color: var(--fill-color);\n",
              "    }\n",
              "    80% {\n",
              "      border-color: transparent;\n",
              "      border-right-color: var(--fill-color);\n",
              "      border-bottom-color: var(--fill-color);\n",
              "    }\n",
              "    90% {\n",
              "      border-color: transparent;\n",
              "      border-bottom-color: var(--fill-color);\n",
              "    }\n",
              "  }\n",
              "</style>\n",
              "\n",
              "  <script>\n",
              "    async function quickchart(key) {\n",
              "      const quickchartButtonEl =\n",
              "        document.querySelector('#' + key + ' button');\n",
              "      quickchartButtonEl.disabled = true;  // To prevent multiple clicks.\n",
              "      quickchartButtonEl.classList.add('colab-df-spinner');\n",
              "      try {\n",
              "        const charts = await google.colab.kernel.invokeFunction(\n",
              "            'suggestCharts', [key], {});\n",
              "      } catch (error) {\n",
              "        console.error('Error during call to suggestCharts:', error);\n",
              "      }\n",
              "      quickchartButtonEl.classList.remove('colab-df-spinner');\n",
              "      quickchartButtonEl.classList.add('colab-df-quickchart-complete');\n",
              "    }\n",
              "    (() => {\n",
              "      let quickchartButtonEl =\n",
              "        document.querySelector('#df-4c302c31-4425-420e-87cd-ee4d0b9f1356 button');\n",
              "      quickchartButtonEl.style.display =\n",
              "        google.colab.kernel.accessAllowed ? 'block' : 'none';\n",
              "    })();\n",
              "  </script>\n",
              "</div>\n",
              "\n",
              "    </div>\n",
              "  </div>\n"
            ],
            "application/vnd.google.colaboratory.intrinsic+json": {
              "type": "dataframe",
              "variable_name": "df"
            }
          },
          "metadata": {},
          "execution_count": 24
        }
      ],
      "source": [
        "df.head()"
      ]
    },
    {
      "cell_type": "markdown",
      "source": [
        "## Q3) Which are the top 10 airlines with the most delay time?"
      ],
      "metadata": {
        "id": "ybeQL_Wopdvj"
      }
    },
    {
      "cell_type": "code",
      "source": [
        "# We have grouped the data by origin airport and sum up the departure delays for each of the airport.\n",
        "# We have selected the top 10 airports with the most delays\n",
        "top_delayed_airlines = df.groupby('ORIGIN')['DEP_DEL15'].apply(lambda x: x.fillna(0).astype(int).sum()).nlargest(10)\n",
        "\n",
        "# Plot the results\n",
        "plt.figure(figsize=(8, 5))\n",
        "plt.barh(top_delayed_airlines.index[::-1], top_delayed_airlines.values[::-1], color='green')\n",
        "plt.title('Top 10 Airlines with Most Delay Time')\n",
        "plt.xlabel('Total Delayed Time in minutes')\n",
        "plt.ylabel('Airline Code')\n",
        "plt.show()"
      ],
      "metadata": {
        "colab": {
          "base_uri": "https://localhost:8080/",
          "height": 487
        },
        "id": "KA7uAZS7pajV",
        "outputId": "c9b135ff-9b42-420e-e913-9d23d6e0196b"
      },
      "execution_count": null,
      "outputs": [
        {
          "output_type": "display_data",
          "data": {
            "text/plain": [
              "<Figure size 800x500 with 1 Axes>"
            ],
            "image/png": "[encoded data removed]"
          },
          "metadata": {}
        }
      ]
    },
    {
      "cell_type": "markdown",
      "source": [
        "## Q4) What is the most common delay types?"
      ],
      "metadata": {
        "id": "sqQaXem0pp8A"
      }
    },
    {
      "cell_type": "code",
      "source": [
        "# We have calculated the total number of departure delays by adding the DEP_DEL15 column.\n",
        "departure_delays = df['DEP_DEL15'].fillna(0).astype(int).sum()\n",
        "# We have calculated the total number of arrival delays by adding the ARR_DEL15 column.\n",
        "arrival_delays = df['ARR_DEL15'].fillna(0).astype(int).sum()\n",
        "\n",
        "# We are comparing the total departure delays and arrival delays to determine the most common delay type.\n",
        "if departure_delays > arrival_delays:\n",
        "    most_common_delay_type = \"Departure Delays (DEP_DEL15)\"\n",
        "else:\n",
        "    most_common_delay_type = \"Arrival Delays (ARR_DEL15)\"\n",
        "\n",
        "# Printing the most common delay type and its total count.\n",
        "print(f\"Most common delay type: {most_common_delay_type} with {max(departure_delays, arrival_delays)} total minutes of delay\")\n",
        "\n",
        "delay_types = ['Departure Delays', 'Arrival Delays']\n",
        "delay_counts = [departure_delays, arrival_delays]\n",
        "\n",
        "plt.figure(figsize=(8, 6))\n",
        "plt.bar(delay_types, delay_counts, color=['steelblue', 'indianred'])\n",
        "plt.title('Most Common Delay Type')\n",
        "plt.xlabel('Delay Type')\n",
        "plt.ylabel('Number of Occurrences')\n",
        "plt.tight_layout()\n",
        "plt.show()"
      ],
      "metadata": {
        "colab": {
          "base_uri": "https://localhost:8080/",
          "height": 624
        },
        "id": "osoyCCgRplMC",
        "outputId": "bf8aca5f-b857-4728-d138-ce07d5920c92"
      },
      "execution_count": null,
      "outputs": [
        {
          "output_type": "stream",
          "name": "stdout",
          "text": [
            "Most common delay type: Arrival Delays (ARR_DEL15) with 28531 total minutes of delay\n"
          ]
        },
        {
          "output_type": "display_data",
          "data": {
            "text/plain": [
              "<Figure size 800x600 with 1 Axes>"
            ],
            "image/png": "[encoded data removed]"
          },
          "metadata": {}
        }
      ]
    },
    {
      "cell_type": "markdown",
      "source": [
        "## Q5) How does distance relate to delay time?"
      ],
      "metadata": {
        "id": "O2FF5rTzqAeN"
      }
    },
    {
      "cell_type": "code",
      "source": [
        "df_filtered = df[['DISTANCE', 'DEP_DEL15']].dropna()\n",
        "\n",
        "# Scatter plot\n",
        "plt.figure(figsize=(8, 5))\n",
        "plt.scatter(df_filtered['DISTANCE'], df_filtered['DEP_DEL15'], alpha=0.5, color='purple')\n",
        "plt.title('Distance vs. Delay Time')\n",
        "plt.xlabel('Distance (miles)')\n",
        "plt.ylabel('Departure Delay (minutes)')\n",
        "plt.show()"
      ],
      "metadata": {
        "colab": {
          "base_uri": "https://localhost:8080/",
          "height": 487
        },
        "id": "kQBWF4p0psmZ",
        "outputId": "492d4c29-6aef-4cc9-b67b-192b97041f78"
      },
      "execution_count": null,
      "outputs": [
        {
          "output_type": "display_data",
          "data": {
            "text/plain": [
              "<Figure size 800x500 with 1 Axes>"
            ],
            "image/png": "[encoded data removed]"
          },
          "metadata": {}
        }
      ]
    },
    {
      "cell_type": "markdown",
      "source": [
        "## Q6) Which airport has the best on-time performance?"
      ],
      "metadata": {
        "id": "MEtm5rHgqIq3"
      }
    },
    {
      "cell_type": "code",
      "source": [
        "df['ON_TIME'] = df['ARR_DEL15'] == 0\n",
        "\n",
        "on_time_performance = df.groupby('ORIGIN')['ON_TIME'].mean().sort_values(ascending=False) * 100\n",
        "\n",
        "# Select the top 10 origin airports with the best on-time performance\n",
        "top_n = 10\n",
        "top_on_time_performance = on_time_performance.head(top_n)\n",
        "\n",
        "# Find the origin airport with the best performance within the top 10 airlines\n",
        "best_origin = top_on_time_performance.idxmax()\n",
        "best_performance = top_on_time_performance.max()\n",
        "\n",
        "print(f\"Best on-time performance (within top 10): {best_origin} with {best_performance:.2f}% of flights arriving on time\")\n",
        "\n",
        "plt.figure(figsize=(10, 6))\n",
        "top_on_time_performance.plot(kind='bar', color='mediumseagreen')\n",
        "plt.title('On-Time Performance by Origin Top 10 Airports')\n",
        "plt.ylabel('Percentage of On-Time Arrivals (%)')\n",
        "plt.xlabel('Airport Code (ORIGIN)')\n",
        "plt.xticks(rotation=45, ha='right')\n",
        "plt.tight_layout()\n",
        "plt.show()"
      ],
      "metadata": {
        "colab": {
          "base_uri": "https://localhost:8080/",
          "height": 597
        },
        "id": "E4w8YmkdqDzo",
        "outputId": "f0e1c799-c9e7-4c21-c835-332779c7d77b"
      },
      "execution_count": null,
      "outputs": [
        {
          "output_type": "stream",
          "name": "stdout",
          "text": [
            "Best on-time performance (within top 10): BFL with 100.00% of flights arriving on time\n"
          ]
        },
        {
          "output_type": "display_data",
          "data": {
            "text/plain": [
              "<Figure size 1000x600 with 1 Axes>"
            ],
            "image/png": "[encoded data removed]"
          },
          "metadata": {}
        }
      ]
    },
    {
      "cell_type": "markdown",
      "source": [
        "## Q7) Are delays more common on weekends or weekdays?"
      ],
      "metadata": {
        "id": "It9r4vYyqSeL"
      }
    },
    {
      "cell_type": "code",
      "source": [
        "# Define weekdays (1-5) and weekends (6-7) using existing 'DAY_OF_WEEK'\n",
        "df['IS_WEEKEND'] = df['DAY_OF_WEEK'] >= 6\n",
        "\n",
        "# Calculate the probability of delay for weekdays and weekends\n",
        "weekend_delay_probability = df[df['IS_WEEKEND']]['ARR_DEL15'].fillna(0).astype(int).mean()\n",
        "weekday_delay_probability = df[~df['IS_WEEKEND']]['ARR_DEL15'].fillna(0).astype(int).mean()\n",
        "\n",
        "# Calculate probabilities of no delay\n",
        "weekend_no_delay_probability = 1 - weekend_delay_probability\n",
        "weekday_no_delay_probability = 1 - weekday_delay_probability\n",
        "\n",
        "# Print probabilities\n",
        "print(f\"Probability of delay on weekdays: {weekday_delay_probability:.2%}\")\n",
        "print(f\"Probability of delay on weekends: {weekend_delay_probability:.2%}\")\n",
        "print(f\"Probability of NO delay on weekdays: {weekday_no_delay_probability:.2%}\")\n",
        "print(f\"Probability of NO delay on weekends: {weekend_no_delay_probability:.2%}\")\n",
        "\n",
        "# Verify that probabilities add up to 1 for each day type\n",
        "print(f\"Total probability for weekdays (should be 1): {weekday_delay_probability + weekday_no_delay_probability:.2f}\")\n",
        "print(f\"Total probability for weekends (should be 1): {weekend_delay_probability + weekend_no_delay_probability:.2f}\")\n",
        "\n",
        "labels = ['Weekdays', 'Weekends']\n",
        "delays = [weekday_delay_proportion, weekend_delay_proportion]\n",
        "\n",
        "plt.figure(figsize=(8, 5))\n",
        "plt.bar(labels, delays, color=['blue', 'orange'])\n",
        "plt.title('Weekdays vs Weekends')\n",
        "plt.ylabel('Delay Proportion')\n",
        "plt.xlabel('Day Type')\n",
        "plt.ylim(0, 1)\n",
        "plt.tight_layout()\n",
        "plt.show()"
      ],
      "metadata": {
        "colab": {
          "base_uri": "https://localhost:8080/",
          "height": 542
        },
        "id": "G0QQE-EBqPf0",
        "outputId": "957d5482-364a-4cdb-9595-c42da6165174"
      },
      "execution_count": null,
      "outputs": [
        {
          "output_type": "stream",
          "name": "stdout",
          "text": [
            "Delay proportion on weekdays: 21.81%\n",
            "Delay proportion on weekends: 12.76%\n"
          ]
        },
        {
          "output_type": "display_data",
          "data": {
            "text/plain": [
              "<Figure size 800x500 with 1 Axes>"
            ],
            "image/png": "[encoded data removed]"
          },
          "metadata": {}
        }
      ]
    },
    {
      "cell_type": "markdown",
      "source": [
        "## Q8) What is the average delay time per airline?"
      ],
      "metadata": {
        "id": "c7tYv1yqqZpT"
      }
    },
    {
      "cell_type": "code",
      "source": [
        "# Group the data by airline and calculate the average delay time for each group\n",
        "average_delay_per_airline = df.groupby(['OP_UNIQUE_CARRIER'])['DEP_DEL15'].apply(lambda x: x.fillna(0).astype(int).mean()).reset_index()\n",
        "\n",
        "\n",
        "top_10_airlines = average_delay_per_airline.sort_values(by=['DEP_DEL15'], ascending=False).head(10)\n",
        "\n",
        "# We considered all airlines but to improve the graph's clarity we have filtered the data to include only the top 10 airlines because the graph was merging data for all airlines.\n",
        "# Change is in the line below\n",
        "filtered_data = average_delay_per_airline[average_delay_per_airline['OP_UNIQUE_CARRIER'].isin(top_10_airlines['OP_UNIQUE_CARRIER'])]\n",
        "\n",
        "plt.figure(figsize=(8, 6))\n",
        "plt.bar(filtered_data['OP_UNIQUE_CARRIER'], filtered_data['DEP_DEL15'])\n",
        "plt.title('Average Delay Time for Top 10 Airlines')\n",
        "plt.xlabel('Airline')\n",
        "plt.ylabel('Average Delay Time (minutes)')\n",
        "plt.xticks(rotation=45, ha='right')\n",
        "plt.tight_layout()\n",
        "plt.show()"
      ],
      "metadata": {
        "colab": {
          "base_uri": "https://localhost:8080/",
          "height": 607
        },
        "id": "aNQAZFwmqXE9",
        "outputId": "01c18bbe-4f96-4850-9c1d-545a1b0453e6"
      },
      "execution_count": null,
      "outputs": [
        {
          "output_type": "display_data",
          "data": {
            "text/plain": [
              "<Figure size 800x600 with 1 Axes>"
            ],
            "image/png": "[encoded data removed]"
          },
          "metadata": {}
        }
      ]
    },
    {
      "cell_type": "markdown",
      "source": [
        "## Q9) Which airports are the worst for delays?"
      ],
      "metadata": {
        "id": "v6ABbC0Zqjcj"
      }
    },
    {
      "cell_type": "code",
      "source": [
        "# We have calculated average delay per airport\n",
        "average_delay_per_airport = df.groupby('OP_UNIQUE_CARRIER')['DEP_DEL15'].apply(lambda x: x.fillna(0).astype(int).sum()).sort_values(ascending=False)\n",
        "worst_airports_avg_delay = average_delay_per_airport.head(10)\n",
        "\n",
        "# We have calculated number of delayed flights per airport\n",
        "delayed_flights_per_airport = df.groupby('OP_UNIQUE_CARRIER')['DEP_DEL15'].apply(lambda x: x.fillna(0).astype(int).sum()).sort_values(ascending=False)\n",
        "worst_airports_num_delays = delayed_flights_per_airport.head(10)\n",
        "\n",
        "fig, axes = plt.subplots(1, 2, figsize=(16, 6))\n",
        "\n",
        "# Plot for average delay time\n",
        "axes[0].bar(worst_airports_avg_delay.index, worst_airports_avg_delay.values, color='gold')\n",
        "axes[0].set_title('Worst Airports for Delays (Average Delay Time)')\n",
        "axes[0].set_xlabel('Airport')\n",
        "axes[0].set_ylabel('Average Delay Time (minutes)')\n",
        "axes[0].set_xticks(axes[0].get_xticks())\n",
        "axes[0].set_xticklabels(axes[0].get_xticklabels(), rotation=45, ha='right')\n",
        "\n",
        "\n",
        "# Plot for number of delayed flights\n",
        "axes[1].bar(worst_airports_num_delays.index, worst_airports_num_delays.values, color='coral')\n",
        "axes[1].set_title('Worst Airports for Delays (Number of Delayed Flights)')\n",
        "axes[1].set_xlabel('Airport')\n",
        "axes[1].set_ylabel('Number of Delayed Flights')\n",
        "axes[1].set_xticks(axes[1].get_xticks())\n",
        "axes[1].set_xticklabels(axes[1].get_xticklabels(), rotation=45, ha='right')\n",
        "\n",
        "plt.tight_layout()\n",
        "plt.show()"
      ],
      "metadata": {
        "colab": {
          "base_uri": "https://localhost:8080/",
          "height": 367
        },
        "id": "w9LQLlNqqfBc",
        "outputId": "a96d743d-d266-40bb-f960-5cdac6ae4b75"
      },
      "execution_count": null,
      "outputs": [
        {
          "output_type": "display_data",
          "data": {
            "text/plain": [
              "<Figure size 1600x600 with 2 Axes>"
            ],
            "image/png": "[encoded data removed]"
          },
          "metadata": {}
        }
      ]
    },
    {
      "cell_type": "markdown",
      "source": [
        "## Q10) What is the probability of a flight being delayed if it is scheduled after 6 PM?"
      ],
      "metadata": {
        "id": "8B3aO6rSqrcj"
      }
    },
    {
      "cell_type": "code",
      "source": [
        "df['DEP_TIME_HOURS'] = df['DEP_TIME']\n",
        "\n",
        "# Filter flights scheduled after 6 PM\n",
        "flights_after_6pm = df[df['DEP_TIME_HOURS'] >= 18]\n",
        "\n",
        "# Calculate probability of delay after 6 PM\n",
        "probability_delay_after_6pm = flights_after_6pm['ARR_DEL15'].fillna(0).astype(int).mean()\n",
        "\n",
        "# Calculate the probability of flights NOT being delayed after 6 PM\n",
        "probability_no_delay_after_6pm = 1 - probability_delay_after_6pm\n",
        "\n",
        "\n",
        "print(f\"Probability of a flight being delayed if it is scheduled after 6 PM is {probability_delay_after_6pm:.2%}\")\n",
        "print(f\"Probability of a flight NOT being delayed if it is scheduled after 6 PM is {probability_no_delay_after_6pm:.2%}\")\n",
        "\n",
        "total_probability = probability_delay_after_6pm + probability_no_delay_after_6pm\n",
        "print(f\"Total probability (should be 1): {total_probability:.2f}\")"
      ],
      "metadata": {
        "colab": {
          "base_uri": "https://localhost:8080/"
        },
        "id": "YpLNqf4Kqo3X",
        "outputId": "b3f030b8-c3f3-4f02-9de1-3c2ad8fb2fba"
      },
      "execution_count": null,
      "outputs": [
        {
          "output_type": "stream",
          "name": "stdout",
          "text": [
            "Probability of a flight being delayed if it is scheduled after 6 PM is 20.36%\n"
          ]
        }
      ]
    }
  ]
}