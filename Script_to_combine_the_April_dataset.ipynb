{
  "nbformat": 4,
  "nbformat_minor": 0,
  "metadata": {
    "colab": {
      "provenance": []
    },
    "kernelspec": {
      "name": "python3",
      "display_name": "Python 3"
    },
    "language_info": {
      "name": "python"
    }
  },
  "cells": [
    {
      "cell_type": "code",
      "execution_count": 3,
      "metadata": {
        "colab": {
          "base_uri": "https://localhost:8080/"
        },
        "id": "e_lt9_ovbPuy",
        "outputId": "4765c815-b4ca-4069-866b-68f7525776bf"
      },
      "outputs": [
        {
          "output_type": "stream",
          "name": "stdout",
          "text": [
            "Combined dataset saved as April_Combined_Dataset.csv\n"
          ]
        }
      ],
      "source": [
        "import os\n",
        "import zipfile\n",
        "import pandas as pd\n",
        "\n",
        "# Paths\n",
        "zip_files = [\n",
        "    \"/content/DL_SelectFields 1998 April.zip\",\n",
        "    \"/content/DL_SelectFields 1999 April.zip\",\n",
        "    \"/content/DL_SelectFields 2000 April.zip\",\n",
        "    \"/content/DL_SelectFields 2001 April.zip\",\n",
        "    \"/content/DL_SelectFields 2002 April.zip\",\n",
        "]\n",
        "output_csv = \"April_Combined_Dataset.csv\"\n",
        "\n",
        "# Creating a list to store dataframes\n",
        "dataframes = []\n",
        "\n",
        "# Extracting and reading the zip files\n",
        "for zip_file in zip_files:\n",
        "    if zip_file.endswith(\".zip\"):\n",
        "        zip_dir = os.path.dirname(zip_file)\n",
        "\n",
        "        with zipfile.ZipFile(zip_file, 'r') as zip_ref:\n",
        "            extract_path = os.path.join(zip_dir, \"extracted\")\n",
        "            zip_ref.extractall(extract_path)\n",
        "\n",
        "            for extracted_file in os.listdir(extract_path):\n",
        "                if extracted_file.endswith(\".csv\"):\n",
        "                    csv_path = os.path.join(extract_path, extracted_file)\n",
        "                    df = pd.read_csv(csv_path)\n",
        "                    dataframes.append(df)\n",
        "\n",
        "# Combine all dataframes\n",
        "if dataframes:\n",
        "    combined_df = pd.concat(dataframes, ignore_index=True)\n",
        "    combined_df.to_csv(output_csv, index=False)\n",
        "    print(f\"Combined dataset saved as {output_csv}\")"
      ]
    },
    {
      "cell_type": "code",
      "source": [],
      "metadata": {
        "id": "9J8xmjfZcJp_"
      },
      "execution_count": null,
      "outputs": []
    }
  ]
}